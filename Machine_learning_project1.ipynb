{
  "nbformat": 4,
  "nbformat_minor": 0,
  "metadata": {
    "colab": {
      "provenance": []
    },
    "kernelspec": {
      "name": "python3",
      "display_name": "Python 3"
    },
    "language_info": {
      "name": "python"
    }
  },
  "cells": [
    {
      "cell_type": "code",
      "execution_count": null,
      "metadata": {
        "colab": {
          "base_uri": "https://localhost:8080/",
          "height": 423
        },
        "id": "T97xQm4LPPdh",
        "outputId": "32b32ce5-199a-4644-8b4f-adc33354728b"
      },
      "outputs": [
        {
          "output_type": "execute_result",
          "data": {
            "text/plain": [
              "      label        id  fea_1   fea_2  fea_3     fea_4  fea_5  fea_6  fea_7  \\\n",
              "0         1  54982665      5  1245.5      3   77000.0      2     15      5   \n",
              "1         0  59004779      4  1277.0      1  113000.0      2      8     -1   \n",
              "2         0  58990862      7  1298.0      1  110000.0      2     11     -1   \n",
              "3         1  58995168      7  1335.5      1  151000.0      2     11      5   \n",
              "4         0  54987320      7     NaN      2   59000.0      2     11      5   \n",
              "...     ...       ...    ...     ...    ...       ...    ...    ...    ...   \n",
              "1120      0  58988196      5  1289.0      1  173000.0      2     15      5   \n",
              "1121      0  58987926      5     NaN      2   50000.0      2     15      5   \n",
              "1122      0  58995381      7  1220.0      3   76000.0      2     11      2   \n",
              "1123      0  58998054      4  1250.0      3  137000.0      2      8      5   \n",
              "1124      0  54989781      4  1415.0      3   93000.0      2      8      5   \n",
              "\n",
              "      fea_8  fea_9  fea_10      fea_11  \n",
              "0       109      5  151300  244.948974  \n",
              "1       100      3  341759  207.173840  \n",
              "2       101      5   72001    1.000000  \n",
              "3       110      3   60084    1.000000  \n",
              "4       108      4  450081  197.403141  \n",
              "...     ...    ...     ...         ...  \n",
              "1120    112      3  350702  200.000000  \n",
              "1121    108      4  450000  169.000000  \n",
              "1122     90      5   71002    1.000000  \n",
              "1123     90      5   72000    1.000000  \n",
              "1124    113      4  151300  273.861279  \n",
              "\n",
              "[1125 rows x 13 columns]"
            ],
            "text/html": [
              "\n",
              "  <div id=\"df-8b4c750b-5bc4-462f-b146-d464349d61ee\">\n",
              "    <div class=\"colab-df-container\">\n",
              "      <div>\n",
              "<style scoped>\n",
              "    .dataframe tbody tr th:only-of-type {\n",
              "        vertical-align: middle;\n",
              "    }\n",
              "\n",
              "    .dataframe tbody tr th {\n",
              "        vertical-align: top;\n",
              "    }\n",
              "\n",
              "    .dataframe thead th {\n",
              "        text-align: right;\n",
              "    }\n",
              "</style>\n",
              "<table border=\"1\" class=\"dataframe\">\n",
              "  <thead>\n",
              "    <tr style=\"text-align: right;\">\n",
              "      <th></th>\n",
              "      <th>label</th>\n",
              "      <th>id</th>\n",
              "      <th>fea_1</th>\n",
              "      <th>fea_2</th>\n",
              "      <th>fea_3</th>\n",
              "      <th>fea_4</th>\n",
              "      <th>fea_5</th>\n",
              "      <th>fea_6</th>\n",
              "      <th>fea_7</th>\n",
              "      <th>fea_8</th>\n",
              "      <th>fea_9</th>\n",
              "      <th>fea_10</th>\n",
              "      <th>fea_11</th>\n",
              "    </tr>\n",
              "  </thead>\n",
              "  <tbody>\n",
              "    <tr>\n",
              "      <th>0</th>\n",
              "      <td>1</td>\n",
              "      <td>54982665</td>\n",
              "      <td>5</td>\n",
              "      <td>1245.5</td>\n",
              "      <td>3</td>\n",
              "      <td>77000.0</td>\n",
              "      <td>2</td>\n",
              "      <td>15</td>\n",
              "      <td>5</td>\n",
              "      <td>109</td>\n",
              "      <td>5</td>\n",
              "      <td>151300</td>\n",
              "      <td>244.948974</td>\n",
              "    </tr>\n",
              "    <tr>\n",
              "      <th>1</th>\n",
              "      <td>0</td>\n",
              "      <td>59004779</td>\n",
              "      <td>4</td>\n",
              "      <td>1277.0</td>\n",
              "      <td>1</td>\n",
              "      <td>113000.0</td>\n",
              "      <td>2</td>\n",
              "      <td>8</td>\n",
              "      <td>-1</td>\n",
              "      <td>100</td>\n",
              "      <td>3</td>\n",
              "      <td>341759</td>\n",
              "      <td>207.173840</td>\n",
              "    </tr>\n",
              "    <tr>\n",
              "      <th>2</th>\n",
              "      <td>0</td>\n",
              "      <td>58990862</td>\n",
              "      <td>7</td>\n",
              "      <td>1298.0</td>\n",
              "      <td>1</td>\n",
              "      <td>110000.0</td>\n",
              "      <td>2</td>\n",
              "      <td>11</td>\n",
              "      <td>-1</td>\n",
              "      <td>101</td>\n",
              "      <td>5</td>\n",
              "      <td>72001</td>\n",
              "      <td>1.000000</td>\n",
              "    </tr>\n",
              "    <tr>\n",
              "      <th>3</th>\n",
              "      <td>1</td>\n",
              "      <td>58995168</td>\n",
              "      <td>7</td>\n",
              "      <td>1335.5</td>\n",
              "      <td>1</td>\n",
              "      <td>151000.0</td>\n",
              "      <td>2</td>\n",
              "      <td>11</td>\n",
              "      <td>5</td>\n",
              "      <td>110</td>\n",
              "      <td>3</td>\n",
              "      <td>60084</td>\n",
              "      <td>1.000000</td>\n",
              "    </tr>\n",
              "    <tr>\n",
              "      <th>4</th>\n",
              "      <td>0</td>\n",
              "      <td>54987320</td>\n",
              "      <td>7</td>\n",
              "      <td>NaN</td>\n",
              "      <td>2</td>\n",
              "      <td>59000.0</td>\n",
              "      <td>2</td>\n",
              "      <td>11</td>\n",
              "      <td>5</td>\n",
              "      <td>108</td>\n",
              "      <td>4</td>\n",
              "      <td>450081</td>\n",
              "      <td>197.403141</td>\n",
              "    </tr>\n",
              "    <tr>\n",
              "      <th>...</th>\n",
              "      <td>...</td>\n",
              "      <td>...</td>\n",
              "      <td>...</td>\n",
              "      <td>...</td>\n",
              "      <td>...</td>\n",
              "      <td>...</td>\n",
              "      <td>...</td>\n",
              "      <td>...</td>\n",
              "      <td>...</td>\n",
              "      <td>...</td>\n",
              "      <td>...</td>\n",
              "      <td>...</td>\n",
              "      <td>...</td>\n",
              "    </tr>\n",
              "    <tr>\n",
              "      <th>1120</th>\n",
              "      <td>0</td>\n",
              "      <td>58988196</td>\n",
              "      <td>5</td>\n",
              "      <td>1289.0</td>\n",
              "      <td>1</td>\n",
              "      <td>173000.0</td>\n",
              "      <td>2</td>\n",
              "      <td>15</td>\n",
              "      <td>5</td>\n",
              "      <td>112</td>\n",
              "      <td>3</td>\n",
              "      <td>350702</td>\n",
              "      <td>200.000000</td>\n",
              "    </tr>\n",
              "    <tr>\n",
              "      <th>1121</th>\n",
              "      <td>0</td>\n",
              "      <td>58987926</td>\n",
              "      <td>5</td>\n",
              "      <td>NaN</td>\n",
              "      <td>2</td>\n",
              "      <td>50000.0</td>\n",
              "      <td>2</td>\n",
              "      <td>15</td>\n",
              "      <td>5</td>\n",
              "      <td>108</td>\n",
              "      <td>4</td>\n",
              "      <td>450000</td>\n",
              "      <td>169.000000</td>\n",
              "    </tr>\n",
              "    <tr>\n",
              "      <th>1122</th>\n",
              "      <td>0</td>\n",
              "      <td>58995381</td>\n",
              "      <td>7</td>\n",
              "      <td>1220.0</td>\n",
              "      <td>3</td>\n",
              "      <td>76000.0</td>\n",
              "      <td>2</td>\n",
              "      <td>11</td>\n",
              "      <td>2</td>\n",
              "      <td>90</td>\n",
              "      <td>5</td>\n",
              "      <td>71002</td>\n",
              "      <td>1.000000</td>\n",
              "    </tr>\n",
              "    <tr>\n",
              "      <th>1123</th>\n",
              "      <td>0</td>\n",
              "      <td>58998054</td>\n",
              "      <td>4</td>\n",
              "      <td>1250.0</td>\n",
              "      <td>3</td>\n",
              "      <td>137000.0</td>\n",
              "      <td>2</td>\n",
              "      <td>8</td>\n",
              "      <td>5</td>\n",
              "      <td>90</td>\n",
              "      <td>5</td>\n",
              "      <td>72000</td>\n",
              "      <td>1.000000</td>\n",
              "    </tr>\n",
              "    <tr>\n",
              "      <th>1124</th>\n",
              "      <td>0</td>\n",
              "      <td>54989781</td>\n",
              "      <td>4</td>\n",
              "      <td>1415.0</td>\n",
              "      <td>3</td>\n",
              "      <td>93000.0</td>\n",
              "      <td>2</td>\n",
              "      <td>8</td>\n",
              "      <td>5</td>\n",
              "      <td>113</td>\n",
              "      <td>4</td>\n",
              "      <td>151300</td>\n",
              "      <td>273.861279</td>\n",
              "    </tr>\n",
              "  </tbody>\n",
              "</table>\n",
              "<p>1125 rows × 13 columns</p>\n",
              "</div>\n",
              "      <button class=\"colab-df-convert\" onclick=\"convertToInteractive('df-8b4c750b-5bc4-462f-b146-d464349d61ee')\"\n",
              "              title=\"Convert this dataframe to an interactive table.\"\n",
              "              style=\"display:none;\">\n",
              "        \n",
              "  <svg xmlns=\"http://www.w3.org/2000/svg\" height=\"24px\"viewBox=\"0 0 24 24\"\n",
              "       width=\"24px\">\n",
              "    <path d=\"M0 0h24v24H0V0z\" fill=\"none\"/>\n",
              "    <path d=\"M18.56 5.44l.94 2.06.94-2.06 2.06-.94-2.06-.94-.94-2.06-.94 2.06-2.06.94zm-11 1L8.5 8.5l.94-2.06 2.06-.94-2.06-.94L8.5 2.5l-.94 2.06-2.06.94zm10 10l.94 2.06.94-2.06 2.06-.94-2.06-.94-.94-2.06-.94 2.06-2.06.94z\"/><path d=\"M17.41 7.96l-1.37-1.37c-.4-.4-.92-.59-1.43-.59-.52 0-1.04.2-1.43.59L10.3 9.45l-7.72 7.72c-.78.78-.78 2.05 0 2.83L4 21.41c.39.39.9.59 1.41.59.51 0 1.02-.2 1.41-.59l7.78-7.78 2.81-2.81c.8-.78.8-2.07 0-2.86zM5.41 20L4 18.59l7.72-7.72 1.47 1.35L5.41 20z\"/>\n",
              "  </svg>\n",
              "      </button>\n",
              "      \n",
              "  <style>\n",
              "    .colab-df-container {\n",
              "      display:flex;\n",
              "      flex-wrap:wrap;\n",
              "      gap: 12px;\n",
              "    }\n",
              "\n",
              "    .colab-df-convert {\n",
              "      background-color: #E8F0FE;\n",
              "      border: none;\n",
              "      border-radius: 50%;\n",
              "      cursor: pointer;\n",
              "      display: none;\n",
              "      fill: #1967D2;\n",
              "      height: 32px;\n",
              "      padding: 0 0 0 0;\n",
              "      width: 32px;\n",
              "    }\n",
              "\n",
              "    .colab-df-convert:hover {\n",
              "      background-color: #E2EBFA;\n",
              "      box-shadow: 0px 1px 2px rgba(60, 64, 67, 0.3), 0px 1px 3px 1px rgba(60, 64, 67, 0.15);\n",
              "      fill: #174EA6;\n",
              "    }\n",
              "\n",
              "    [theme=dark] .colab-df-convert {\n",
              "      background-color: #3B4455;\n",
              "      fill: #D2E3FC;\n",
              "    }\n",
              "\n",
              "    [theme=dark] .colab-df-convert:hover {\n",
              "      background-color: #434B5C;\n",
              "      box-shadow: 0px 1px 3px 1px rgba(0, 0, 0, 0.15);\n",
              "      filter: drop-shadow(0px 1px 2px rgba(0, 0, 0, 0.3));\n",
              "      fill: #FFFFFF;\n",
              "    }\n",
              "  </style>\n",
              "\n",
              "      <script>\n",
              "        const buttonEl =\n",
              "          document.querySelector('#df-8b4c750b-5bc4-462f-b146-d464349d61ee button.colab-df-convert');\n",
              "        buttonEl.style.display =\n",
              "          google.colab.kernel.accessAllowed ? 'block' : 'none';\n",
              "\n",
              "        async function convertToInteractive(key) {\n",
              "          const element = document.querySelector('#df-8b4c750b-5bc4-462f-b146-d464349d61ee');\n",
              "          const dataTable =\n",
              "            await google.colab.kernel.invokeFunction('convertToInteractive',\n",
              "                                                     [key], {});\n",
              "          if (!dataTable) return;\n",
              "\n",
              "          const docLinkHtml = 'Like what you see? Visit the ' +\n",
              "            '<a target=\"_blank\" href=https://colab.research.google.com/notebooks/data_table.ipynb>data table notebook</a>'\n",
              "            + ' to learn more about interactive tables.';\n",
              "          element.innerHTML = '';\n",
              "          dataTable['output_type'] = 'display_data';\n",
              "          await google.colab.output.renderOutput(dataTable, element);\n",
              "          const docLink = document.createElement('div');\n",
              "          docLink.innerHTML = docLinkHtml;\n",
              "          element.appendChild(docLink);\n",
              "        }\n",
              "      </script>\n",
              "    </div>\n",
              "  </div>\n",
              "  "
            ]
          },
          "metadata": {},
          "execution_count": 145
        }
      ],
      "source": [
        "import pandas as pd\n",
        "df=pd.read_csv('/content/drive/MyDrive/Data set/customer_data[1].csv')\n",
        "import warnings\n",
        "warnings.filterwarnings('ignore')\n",
        "df"
      ]
    },
    {
      "cell_type": "markdown",
      "source": [
        "Data set is imported and warnings are avoided. There are 11 features, ID, and class label in the dataset. This is a credit risk data set with class label 1 denoting customers with high credit risk and 0 with low credit risk."
      ],
      "metadata": {
        "id": "LRnbFfDSiVGX"
      }
    },
    {
      "cell_type": "code",
      "source": [
        "df.dtypes"
      ],
      "metadata": {
        "colab": {
          "base_uri": "https://localhost:8080/"
        },
        "id": "dVIhPvhRRIOS",
        "outputId": "50decfe3-0791-45aa-c50d-4ed6d1692448"
      },
      "execution_count": null,
      "outputs": [
        {
          "output_type": "execute_result",
          "data": {
            "text/plain": [
              "label       int64\n",
              "id          int64\n",
              "fea_1       int64\n",
              "fea_2     float64\n",
              "fea_3       int64\n",
              "fea_4     float64\n",
              "fea_5       int64\n",
              "fea_6       int64\n",
              "fea_7       int64\n",
              "fea_8       int64\n",
              "fea_9       int64\n",
              "fea_10      int64\n",
              "fea_11    float64\n",
              "dtype: object"
            ]
          },
          "metadata": {},
          "execution_count": 146
        }
      ]
    },
    {
      "cell_type": "markdown",
      "source": [
        "Datatypes are checked"
      ],
      "metadata": {
        "id": "CXlQhp0timCJ"
      }
    },
    {
      "cell_type": "code",
      "source": [
        "df.isna().sum()"
      ],
      "metadata": {
        "colab": {
          "base_uri": "https://localhost:8080/"
        },
        "id": "pl9CboOZQ_-P",
        "outputId": "443fd968-36c2-4792-86c6-7ce608d462b9"
      },
      "execution_count": null,
      "outputs": [
        {
          "output_type": "execute_result",
          "data": {
            "text/plain": [
              "label       0\n",
              "id          0\n",
              "fea_1       0\n",
              "fea_2     149\n",
              "fea_3       0\n",
              "fea_4       0\n",
              "fea_5       0\n",
              "fea_6       0\n",
              "fea_7       0\n",
              "fea_8       0\n",
              "fea_9       0\n",
              "fea_10      0\n",
              "fea_11      0\n",
              "dtype: int64"
            ]
          },
          "metadata": {},
          "execution_count": 147
        }
      ]
    },
    {
      "cell_type": "markdown",
      "source": [
        "149 null values are found"
      ],
      "metadata": {
        "id": "k2EjbP8Din5Q"
      }
    },
    {
      "cell_type": "code",
      "source": [
        "df['fea_2']=df['fea_2'].fillna(df['fea_2'].mean())"
      ],
      "metadata": {
        "id": "rBaF2alvZmF8"
      },
      "execution_count": null,
      "outputs": []
    },
    {
      "cell_type": "markdown",
      "source": [
        "Null values are handled by taking the mean"
      ],
      "metadata": {
        "id": "JDyrTLjrj7KD"
      }
    },
    {
      "cell_type": "code",
      "source": [
        "df.isna().sum()"
      ],
      "metadata": {
        "colab": {
          "base_uri": "https://localhost:8080/"
        },
        "id": "6FfsmPmNaETS",
        "outputId": "4d863639-3a41-45e4-9fa4-e80d7015f644"
      },
      "execution_count": null,
      "outputs": [
        {
          "output_type": "execute_result",
          "data": {
            "text/plain": [
              "label     0\n",
              "id        0\n",
              "fea_1     0\n",
              "fea_2     0\n",
              "fea_3     0\n",
              "fea_4     0\n",
              "fea_5     0\n",
              "fea_6     0\n",
              "fea_7     0\n",
              "fea_8     0\n",
              "fea_9     0\n",
              "fea_10    0\n",
              "fea_11    0\n",
              "dtype: int64"
            ]
          },
          "metadata": {},
          "execution_count": 149
        }
      ]
    },
    {
      "cell_type": "code",
      "source": [
        "df.drop(['id'],axis=1,inplace=True)"
      ],
      "metadata": {
        "id": "QGn8-SsnA-Kv"
      },
      "execution_count": null,
      "outputs": []
    },
    {
      "cell_type": "code",
      "source": [
        "Column ID is dropped"
      ],
      "metadata": {
        "id": "WQtyqcKVjSP_"
      },
      "execution_count": null,
      "outputs": []
    },
    {
      "cell_type": "code",
      "source": [
        "import seaborn as sns"
      ],
      "metadata": {
        "id": "Aas0RtBOAmTs"
      },
      "execution_count": null,
      "outputs": []
    },
    {
      "cell_type": "code",
      "source": [
        "sns.set(rc={'figure.figsize':(12,11)})\n",
        "sns.heatmap(df.corr(),annot=True,linewidth=1)"
      ],
      "metadata": {
        "colab": {
          "base_uri": "https://localhost:8080/",
          "height": 936
        },
        "id": "YRSBn2UEB0mi",
        "outputId": "2255624d-b629-410a-b796-faa8d277f471"
      },
      "execution_count": null,
      "outputs": [
        {
          "output_type": "execute_result",
          "data": {
            "text/plain": [
              "<Axes: >"
            ]
          },
          "metadata": {},
          "execution_count": 152
        },
        {
          "output_type": "display_data",
          "data": {
            "text/plain": [
              "<Figure size 1200x1100 with 2 Axes>"
            ],
            "image/png": "[encoded data removed]"
          },
          "metadata": {}
        }
      ]
    },
    {
      "cell_type": "code",
      "source": [
        "df.corr()"
      ],
      "metadata": {
        "colab": {
          "base_uri": "https://localhost:8080/",
          "height": 425
        },
        "id": "6CBV3RKkCxiv",
        "outputId": "c7ac6bb2-33bd-4eca-a733-90dcad0dee41"
      },
      "execution_count": null,
      "outputs": [
        {
          "output_type": "execute_result",
          "data": {
            "text/plain": [
              "               label     fea_1     fea_2     fea_3     fea_4     fea_5  \\\n",
              "label   1.000000e+00  0.052071 -0.072369  0.055658 -0.131459  0.017293   \n",
              "fea_1   5.207118e-02  1.000000 -0.011207  0.004391 -0.105110 -0.020977   \n",
              "fea_2  -7.236856e-02 -0.011207  1.000000 -0.243468  0.271276  0.003287   \n",
              "fea_3   5.565787e-02  0.004391 -0.243468  1.000000 -0.119909 -0.017062   \n",
              "fea_4  -1.314593e-01 -0.105110  0.271276 -0.119909  1.000000  0.035862   \n",
              "fea_5   1.729286e-02 -0.020977  0.003287 -0.017062  0.035862  1.000000   \n",
              "fea_6   2.890698e-02  0.346629  0.001090  0.161899 -0.137654  0.055280   \n",
              "fea_7  -1.227143e-02 -0.030144  0.003331  0.253059 -0.046294 -0.017898   \n",
              "fea_8  -2.125122e-02  0.049951 -0.021231  0.025249 -0.105451  0.003813   \n",
              "fea_9   5.590642e-17 -0.055008  0.091913  0.128571  0.100048 -0.021656   \n",
              "fea_10  8.808212e-04  0.108505 -0.026880 -0.117266  0.066553  0.105127   \n",
              "fea_11  2.444255e-03  0.095053  0.057776  0.066774  0.039042 -0.101328   \n",
              "\n",
              "           fea_6     fea_7     fea_8         fea_9    fea_10    fea_11  \n",
              "label   0.028907 -0.012271 -0.021251  5.590642e-17  0.000881  0.002444  \n",
              "fea_1   0.346629 -0.030144  0.049951 -5.500809e-02  0.108505  0.095053  \n",
              "fea_2   0.001090  0.003331 -0.021231  9.191347e-02 -0.026880  0.057776  \n",
              "fea_3   0.161899  0.253059  0.025249  1.285708e-01 -0.117266  0.066774  \n",
              "fea_4  -0.137654 -0.046294 -0.105451  1.000482e-01  0.066553  0.039042  \n",
              "fea_5   0.055280 -0.017898  0.003813 -2.165627e-02  0.105127 -0.101328  \n",
              "fea_6   1.000000 -0.010971  0.028963  6.183006e-02  0.216362  0.128467  \n",
              "fea_7  -0.010971  1.000000  0.078722 -1.652961e-02 -0.245453  0.021797  \n",
              "fea_8   0.028963  0.078722  1.000000 -1.009981e-01  0.095880  0.133031  \n",
              "fea_9   0.061830 -0.016530 -0.100998  1.000000e+00 -0.038176 -0.048769  \n",
              "fea_10  0.216362 -0.245453  0.095880 -3.817559e-02  1.000000  0.271108  \n",
              "fea_11  0.128467  0.021797  0.133031 -4.876862e-02  0.271108  1.000000  "
            ],
            "text/html": [
              "\n",
              "  <div id=\"df-5699b89a-9baf-44ec-8648-5cb61bdece5f\">\n",
              "    <div class=\"colab-df-container\">\n",
              "      <div>\n",
              "<style scoped>\n",
              "    .dataframe tbody tr th:only-of-type {\n",
              "        vertical-align: middle;\n",
              "    }\n",
              "\n",
              "    .dataframe tbody tr th {\n",
              "        vertical-align: top;\n",
              "    }\n",
              "\n",
              "    .dataframe thead th {\n",
              "        text-align: right;\n",
              "    }\n",
              "</style>\n",
              "<table border=\"1\" class=\"dataframe\">\n",
              "  <thead>\n",
              "    <tr style=\"text-align: right;\">\n",
              "      <th></th>\n",
              "      <th>label</th>\n",
              "      <th>fea_1</th>\n",
              "      <th>fea_2</th>\n",
              "      <th>fea_3</th>\n",
              "      <th>fea_4</th>\n",
              "      <th>fea_5</th>\n",
              "      <th>fea_6</th>\n",
              "      <th>fea_7</th>\n",
              "      <th>fea_8</th>\n",
              "      <th>fea_9</th>\n",
              "      <th>fea_10</th>\n",
              "      <th>fea_11</th>\n",
              "    </tr>\n",
              "  </thead>\n",
              "  <tbody>\n",
              "    <tr>\n",
              "      <th>label</th>\n",
              "      <td>1.000000e+00</td>\n",
              "      <td>0.052071</td>\n",
              "      <td>-0.072369</td>\n",
              "      <td>0.055658</td>\n",
              "      <td>-0.131459</td>\n",
              "      <td>0.017293</td>\n",
              "      <td>0.028907</td>\n",
              "      <td>-0.012271</td>\n",
              "      <td>-0.021251</td>\n",
              "      <td>5.590642e-17</td>\n",
              "      <td>0.000881</td>\n",
              "      <td>0.002444</td>\n",
              "    </tr>\n",
              "    <tr>\n",
              "      <th>fea_1</th>\n",
              "      <td>5.207118e-02</td>\n",
              "      <td>1.000000</td>\n",
              "      <td>-0.011207</td>\n",
              "      <td>0.004391</td>\n",
              "      <td>-0.105110</td>\n",
              "      <td>-0.020977</td>\n",
              "      <td>0.346629</td>\n",
              "      <td>-0.030144</td>\n",
              "      <td>0.049951</td>\n",
              "      <td>-5.500809e-02</td>\n",
              "      <td>0.108505</td>\n",
              "      <td>0.095053</td>\n",
              "    </tr>\n",
              "    <tr>\n",
              "      <th>fea_2</th>\n",
              "      <td>-7.236856e-02</td>\n",
              "      <td>-0.011207</td>\n",
              "      <td>1.000000</td>\n",
              "      <td>-0.243468</td>\n",
              "      <td>0.271276</td>\n",
              "      <td>0.003287</td>\n",
              "      <td>0.001090</td>\n",
              "      <td>0.003331</td>\n",
              "      <td>-0.021231</td>\n",
              "      <td>9.191347e-02</td>\n",
              "      <td>-0.026880</td>\n",
              "      <td>0.057776</td>\n",
              "    </tr>\n",
              "    <tr>\n",
              "      <th>fea_3</th>\n",
              "      <td>5.565787e-02</td>\n",
              "      <td>0.004391</td>\n",
              "      <td>-0.243468</td>\n",
              "      <td>1.000000</td>\n",
              "      <td>-0.119909</td>\n",
              "      <td>-0.017062</td>\n",
              "      <td>0.161899</td>\n",
              "      <td>0.253059</td>\n",
              "      <td>0.025249</td>\n",
              "      <td>1.285708e-01</td>\n",
              "      <td>-0.117266</td>\n",
              "      <td>0.066774</td>\n",
              "    </tr>\n",
              "    <tr>\n",
              "      <th>fea_4</th>\n",
              "      <td>-1.314593e-01</td>\n",
              "      <td>-0.105110</td>\n",
              "      <td>0.271276</td>\n",
              "      <td>-0.119909</td>\n",
              "      <td>1.000000</td>\n",
              "      <td>0.035862</td>\n",
              "      <td>-0.137654</td>\n",
              "      <td>-0.046294</td>\n",
              "      <td>-0.105451</td>\n",
              "      <td>1.000482e-01</td>\n",
              "      <td>0.066553</td>\n",
              "      <td>0.039042</td>\n",
              "    </tr>\n",
              "    <tr>\n",
              "      <th>fea_5</th>\n",
              "      <td>1.729286e-02</td>\n",
              "      <td>-0.020977</td>\n",
              "      <td>0.003287</td>\n",
              "      <td>-0.017062</td>\n",
              "      <td>0.035862</td>\n",
              "      <td>1.000000</td>\n",
              "      <td>0.055280</td>\n",
              "      <td>-0.017898</td>\n",
              "      <td>0.003813</td>\n",
              "      <td>-2.165627e-02</td>\n",
              "      <td>0.105127</td>\n",
              "      <td>-0.101328</td>\n",
              "    </tr>\n",
              "    <tr>\n",
              "      <th>fea_6</th>\n",
              "      <td>2.890698e-02</td>\n",
              "      <td>0.346629</td>\n",
              "      <td>0.001090</td>\n",
              "      <td>0.161899</td>\n",
              "      <td>-0.137654</td>\n",
              "      <td>0.055280</td>\n",
              "      <td>1.000000</td>\n",
              "      <td>-0.010971</td>\n",
              "      <td>0.028963</td>\n",
              "      <td>6.183006e-02</td>\n",
              "      <td>0.216362</td>\n",
              "      <td>0.128467</td>\n",
              "    </tr>\n",
              "    <tr>\n",
              "      <th>fea_7</th>\n",
              "      <td>-1.227143e-02</td>\n",
              "      <td>-0.030144</td>\n",
              "      <td>0.003331</td>\n",
              "      <td>0.253059</td>\n",
              "      <td>-0.046294</td>\n",
              "      <td>-0.017898</td>\n",
              "      <td>-0.010971</td>\n",
              "      <td>1.000000</td>\n",
              "      <td>0.078722</td>\n",
              "      <td>-1.652961e-02</td>\n",
              "      <td>-0.245453</td>\n",
              "      <td>0.021797</td>\n",
              "    </tr>\n",
              "    <tr>\n",
              "      <th>fea_8</th>\n",
              "      <td>-2.125122e-02</td>\n",
              "      <td>0.049951</td>\n",
              "      <td>-0.021231</td>\n",
              "      <td>0.025249</td>\n",
              "      <td>-0.105451</td>\n",
              "      <td>0.003813</td>\n",
              "      <td>0.028963</td>\n",
              "      <td>0.078722</td>\n",
              "      <td>1.000000</td>\n",
              "      <td>-1.009981e-01</td>\n",
              "      <td>0.095880</td>\n",
              "      <td>0.133031</td>\n",
              "    </tr>\n",
              "    <tr>\n",
              "      <th>fea_9</th>\n",
              "      <td>5.590642e-17</td>\n",
              "      <td>-0.055008</td>\n",
              "      <td>0.091913</td>\n",
              "      <td>0.128571</td>\n",
              "      <td>0.100048</td>\n",
              "      <td>-0.021656</td>\n",
              "      <td>0.061830</td>\n",
              "      <td>-0.016530</td>\n",
              "      <td>-0.100998</td>\n",
              "      <td>1.000000e+00</td>\n",
              "      <td>-0.038176</td>\n",
              "      <td>-0.048769</td>\n",
              "    </tr>\n",
              "    <tr>\n",
              "      <th>fea_10</th>\n",
              "      <td>8.808212e-04</td>\n",
              "      <td>0.108505</td>\n",
              "      <td>-0.026880</td>\n",
              "      <td>-0.117266</td>\n",
              "      <td>0.066553</td>\n",
              "      <td>0.105127</td>\n",
              "      <td>0.216362</td>\n",
              "      <td>-0.245453</td>\n",
              "      <td>0.095880</td>\n",
              "      <td>-3.817559e-02</td>\n",
              "      <td>1.000000</td>\n",
              "      <td>0.271108</td>\n",
              "    </tr>\n",
              "    <tr>\n",
              "      <th>fea_11</th>\n",
              "      <td>2.444255e-03</td>\n",
              "      <td>0.095053</td>\n",
              "      <td>0.057776</td>\n",
              "      <td>0.066774</td>\n",
              "      <td>0.039042</td>\n",
              "      <td>-0.101328</td>\n",
              "      <td>0.128467</td>\n",
              "      <td>0.021797</td>\n",
              "      <td>0.133031</td>\n",
              "      <td>-4.876862e-02</td>\n",
              "      <td>0.271108</td>\n",
              "      <td>1.000000</td>\n",
              "    </tr>\n",
              "  </tbody>\n",
              "</table>\n",
              "</div>\n",
              "      <button class=\"colab-df-convert\" onclick=\"convertToInteractive('df-5699b89a-9baf-44ec-8648-5cb61bdece5f')\"\n",
              "              title=\"Convert this dataframe to an interactive table.\"\n",
              "              style=\"display:none;\">\n",
              "        \n",
              "  <svg xmlns=\"http://www.w3.org/2000/svg\" height=\"24px\"viewBox=\"0 0 24 24\"\n",
              "       width=\"24px\">\n",
              "    <path d=\"M0 0h24v24H0V0z\" fill=\"none\"/>\n",
              "    <path d=\"M18.56 5.44l.94 2.06.94-2.06 2.06-.94-2.06-.94-.94-2.06-.94 2.06-2.06.94zm-11 1L8.5 8.5l.94-2.06 2.06-.94-2.06-.94L8.5 2.5l-.94 2.06-2.06.94zm10 10l.94 2.06.94-2.06 2.06-.94-2.06-.94-.94-2.06-.94 2.06-2.06.94z\"/><path d=\"M17.41 7.96l-1.37-1.37c-.4-.4-.92-.59-1.43-.59-.52 0-1.04.2-1.43.59L10.3 9.45l-7.72 7.72c-.78.78-.78 2.05 0 2.83L4 21.41c.39.39.9.59 1.41.59.51 0 1.02-.2 1.41-.59l7.78-7.78 2.81-2.81c.8-.78.8-2.07 0-2.86zM5.41 20L4 18.59l7.72-7.72 1.47 1.35L5.41 20z\"/>\n",
              "  </svg>\n",
              "      </button>\n",
              "      \n",
              "  <style>\n",
              "    .colab-df-container {\n",
              "      display:flex;\n",
              "      flex-wrap:wrap;\n",
              "      gap: 12px;\n",
              "    }\n",
              "\n",
              "    .colab-df-convert {\n",
              "      background-color: #E8F0FE;\n",
              "      border: none;\n",
              "      border-radius: 50%;\n",
              "      cursor: pointer;\n",
              "      display: none;\n",
              "      fill: #1967D2;\n",
              "      height: 32px;\n",
              "      padding: 0 0 0 0;\n",
              "      width: 32px;\n",
              "    }\n",
              "\n",
              "    .colab-df-convert:hover {\n",
              "      background-color: #E2EBFA;\n",
              "      box-shadow: 0px 1px 2px rgba(60, 64, 67, 0.3), 0px 1px 3px 1px rgba(60, 64, 67, 0.15);\n",
              "      fill: #174EA6;\n",
              "    }\n",
              "\n",
              "    [theme=dark] .colab-df-convert {\n",
              "      background-color: #3B4455;\n",
              "      fill: #D2E3FC;\n",
              "    }\n",
              "\n",
              "    [theme=dark] .colab-df-convert:hover {\n",
              "      background-color: #434B5C;\n",
              "      box-shadow: 0px 1px 3px 1px rgba(0, 0, 0, 0.15);\n",
              "      filter: drop-shadow(0px 1px 2px rgba(0, 0, 0, 0.3));\n",
              "      fill: #FFFFFF;\n",
              "    }\n",
              "  </style>\n",
              "\n",
              "      <script>\n",
              "        const buttonEl =\n",
              "          document.querySelector('#df-5699b89a-9baf-44ec-8648-5cb61bdece5f button.colab-df-convert');\n",
              "        buttonEl.style.display =\n",
              "          google.colab.kernel.accessAllowed ? 'block' : 'none';\n",
              "\n",
              "        async function convertToInteractive(key) {\n",
              "          const element = document.querySelector('#df-5699b89a-9baf-44ec-8648-5cb61bdece5f');\n",
              "          const dataTable =\n",
              "            await google.colab.kernel.invokeFunction('convertToInteractive',\n",
              "                                                     [key], {});\n",
              "          if (!dataTable) return;\n",
              "\n",
              "          const docLinkHtml = 'Like what you see? Visit the ' +\n",
              "            '<a target=\"_blank\" href=https://colab.research.google.com/notebooks/data_table.ipynb>data table notebook</a>'\n",
              "            + ' to learn more about interactive tables.';\n",
              "          element.innerHTML = '';\n",
              "          dataTable['output_type'] = 'display_data';\n",
              "          await google.colab.output.renderOutput(dataTable, element);\n",
              "          const docLink = document.createElement('div');\n",
              "          docLink.innerHTML = docLinkHtml;\n",
              "          element.appendChild(docLink);\n",
              "        }\n",
              "      </script>\n",
              "    </div>\n",
              "  </div>\n",
              "  "
            ]
          },
          "metadata": {},
          "execution_count": 153
        }
      ]
    },
    {
      "cell_type": "markdown",
      "source": [
        "Correlation of each features with the class label is analysed, and features 2,7 and 8 has less correlation"
      ],
      "metadata": {
        "id": "q90tg6mYjf5_"
      }
    },
    {
      "cell_type": "code",
      "source": [
        "sns.countplot(x='label',data=df)"
      ],
      "metadata": {
        "colab": {
          "base_uri": "https://localhost:8080/",
          "height": 952
        },
        "id": "Dd0FbQLbCGvS",
        "outputId": "86751f07-73db-4a1c-8335-eda4f4cbbc56"
      },
      "execution_count": null,
      "outputs": [
        {
          "output_type": "execute_result",
          "data": {
            "text/plain": [
              "<Axes: xlabel='label', ylabel='count'>"
            ]
          },
          "metadata": {},
          "execution_count": 154
        },
        {
          "output_type": "display_data",
          "data": {
            "text/plain": [
              "<Figure size 1200x1100 with 1 Axes>"
            ],
            "image/png": "[encoded data removed]"
          },
          "metadata": {}
        }
      ]
    },
    {
      "cell_type": "markdown",
      "source": [
        "Dataset is imbalanced"
      ],
      "metadata": {
        "id": "_1wGbAE_kBzE"
      }
    },
    {
      "cell_type": "code",
      "source": [
        "X=df.iloc[:,1:]\n",
        "X"
      ],
      "metadata": {
        "colab": {
          "base_uri": "https://localhost:8080/",
          "height": 423
        },
        "id": "1LConFOlai1a",
        "outputId": "d80365f4-ee4f-456e-fc82-3a508eff9dac"
      },
      "execution_count": null,
      "outputs": [
        {
          "output_type": "execute_result",
          "data": {
            "text/plain": [
              "      fea_1        fea_2  fea_3     fea_4  fea_5  fea_6  fea_7  fea_8  fea_9  \\\n",
              "0         5  1245.500000      3   77000.0      2     15      5    109      5   \n",
              "1         4  1277.000000      1  113000.0      2      8     -1    100      3   \n",
              "2         7  1298.000000      1  110000.0      2     11     -1    101      5   \n",
              "3         7  1335.500000      1  151000.0      2     11      5    110      3   \n",
              "4         7  1283.911373      2   59000.0      2     11      5    108      4   \n",
              "...     ...          ...    ...       ...    ...    ...    ...    ...    ...   \n",
              "1120      5  1289.000000      1  173000.0      2     15      5    112      3   \n",
              "1121      5  1283.911373      2   50000.0      2     15      5    108      4   \n",
              "1122      7  1220.000000      3   76000.0      2     11      2     90      5   \n",
              "1123      4  1250.000000      3  137000.0      2      8      5     90      5   \n",
              "1124      4  1415.000000      3   93000.0      2      8      5    113      4   \n",
              "\n",
              "      fea_10      fea_11  \n",
              "0     151300  244.948974  \n",
              "1     341759  207.173840  \n",
              "2      72001    1.000000  \n",
              "3      60084    1.000000  \n",
              "4     450081  197.403141  \n",
              "...      ...         ...  \n",
              "1120  350702  200.000000  \n",
              "1121  450000  169.000000  \n",
              "1122   71002    1.000000  \n",
              "1123   72000    1.000000  \n",
              "1124  151300  273.861279  \n",
              "\n",
              "[1125 rows x 11 columns]"
            ],
            "text/html": [
              "\n",
              "  <div id=\"df-4f9fa2ce-2bf2-43bf-9876-923bf37e7bc4\">\n",
              "    <div class=\"colab-df-container\">\n",
              "      <div>\n",
              "<style scoped>\n",
              "    .dataframe tbody tr th:only-of-type {\n",
              "        vertical-align: middle;\n",
              "    }\n",
              "\n",
              "    .dataframe tbody tr th {\n",
              "        vertical-align: top;\n",
              "    }\n",
              "\n",
              "    .dataframe thead th {\n",
              "        text-align: right;\n",
              "    }\n",
              "</style>\n",
              "<table border=\"1\" class=\"dataframe\">\n",
              "  <thead>\n",
              "    <tr style=\"text-align: right;\">\n",
              "      <th></th>\n",
              "      <th>fea_1</th>\n",
              "      <th>fea_2</th>\n",
              "      <th>fea_3</th>\n",
              "      <th>fea_4</th>\n",
              "      <th>fea_5</th>\n",
              "      <th>fea_6</th>\n",
              "      <th>fea_7</th>\n",
              "      <th>fea_8</th>\n",
              "      <th>fea_9</th>\n",
              "      <th>fea_10</th>\n",
              "      <th>fea_11</th>\n",
              "    </tr>\n",
              "  </thead>\n",
              "  <tbody>\n",
              "    <tr>\n",
              "      <th>0</th>\n",
              "      <td>5</td>\n",
              "      <td>1245.500000</td>\n",
              "      <td>3</td>\n",
              "      <td>77000.0</td>\n",
              "      <td>2</td>\n",
              "      <td>15</td>\n",
              "      <td>5</td>\n",
              "      <td>109</td>\n",
              "      <td>5</td>\n",
              "      <td>151300</td>\n",
              "      <td>244.948974</td>\n",
              "    </tr>\n",
              "    <tr>\n",
              "      <th>1</th>\n",
              "      <td>4</td>\n",
              "      <td>1277.000000</td>\n",
              "      <td>1</td>\n",
              "      <td>113000.0</td>\n",
              "      <td>2</td>\n",
              "      <td>8</td>\n",
              "      <td>-1</td>\n",
              "      <td>100</td>\n",
              "      <td>3</td>\n",
              "      <td>341759</td>\n",
              "      <td>207.173840</td>\n",
              "    </tr>\n",
              "    <tr>\n",
              "      <th>2</th>\n",
              "      <td>7</td>\n",
              "      <td>1298.000000</td>\n",
              "      <td>1</td>\n",
              "      <td>110000.0</td>\n",
              "      <td>2</td>\n",
              "      <td>11</td>\n",
              "      <td>-1</td>\n",
              "      <td>101</td>\n",
              "      <td>5</td>\n",
              "      <td>72001</td>\n",
              "      <td>1.000000</td>\n",
              "    </tr>\n",
              "    <tr>\n",
              "      <th>3</th>\n",
              "      <td>7</td>\n",
              "      <td>1335.500000</td>\n",
              "      <td>1</td>\n",
              "      <td>151000.0</td>\n",
              "      <td>2</td>\n",
              "      <td>11</td>\n",
              "      <td>5</td>\n",
              "      <td>110</td>\n",
              "      <td>3</td>\n",
              "      <td>60084</td>\n",
              "      <td>1.000000</td>\n",
              "    </tr>\n",
              "    <tr>\n",
              "      <th>4</th>\n",
              "      <td>7</td>\n",
              "      <td>1283.911373</td>\n",
              "      <td>2</td>\n",
              "      <td>59000.0</td>\n",
              "      <td>2</td>\n",
              "      <td>11</td>\n",
              "      <td>5</td>\n",
              "      <td>108</td>\n",
              "      <td>4</td>\n",
              "      <td>450081</td>\n",
              "      <td>197.403141</td>\n",
              "    </tr>\n",
              "    <tr>\n",
              "      <th>...</th>\n",
              "      <td>...</td>\n",
              "      <td>...</td>\n",
              "      <td>...</td>\n",
              "      <td>...</td>\n",
              "      <td>...</td>\n",
              "      <td>...</td>\n",
              "      <td>...</td>\n",
              "      <td>...</td>\n",
              "      <td>...</td>\n",
              "      <td>...</td>\n",
              "      <td>...</td>\n",
              "    </tr>\n",
              "    <tr>\n",
              "      <th>1120</th>\n",
              "      <td>5</td>\n",
              "      <td>1289.000000</td>\n",
              "      <td>1</td>\n",
              "      <td>173000.0</td>\n",
              "      <td>2</td>\n",
              "      <td>15</td>\n",
              "      <td>5</td>\n",
              "      <td>112</td>\n",
              "      <td>3</td>\n",
              "      <td>350702</td>\n",
              "      <td>200.000000</td>\n",
              "    </tr>\n",
              "    <tr>\n",
              "      <th>1121</th>\n",
              "      <td>5</td>\n",
              "      <td>1283.911373</td>\n",
              "      <td>2</td>\n",
              "      <td>50000.0</td>\n",
              "      <td>2</td>\n",
              "      <td>15</td>\n",
              "      <td>5</td>\n",
              "      <td>108</td>\n",
              "      <td>4</td>\n",
              "      <td>450000</td>\n",
              "      <td>169.000000</td>\n",
              "    </tr>\n",
              "    <tr>\n",
              "      <th>1122</th>\n",
              "      <td>7</td>\n",
              "      <td>1220.000000</td>\n",
              "      <td>3</td>\n",
              "      <td>76000.0</td>\n",
              "      <td>2</td>\n",
              "      <td>11</td>\n",
              "      <td>2</td>\n",
              "      <td>90</td>\n",
              "      <td>5</td>\n",
              "      <td>71002</td>\n",
              "      <td>1.000000</td>\n",
              "    </tr>\n",
              "    <tr>\n",
              "      <th>1123</th>\n",
              "      <td>4</td>\n",
              "      <td>1250.000000</td>\n",
              "      <td>3</td>\n",
              "      <td>137000.0</td>\n",
              "      <td>2</td>\n",
              "      <td>8</td>\n",
              "      <td>5</td>\n",
              "      <td>90</td>\n",
              "      <td>5</td>\n",
              "      <td>72000</td>\n",
              "      <td>1.000000</td>\n",
              "    </tr>\n",
              "    <tr>\n",
              "      <th>1124</th>\n",
              "      <td>4</td>\n",
              "      <td>1415.000000</td>\n",
              "      <td>3</td>\n",
              "      <td>93000.0</td>\n",
              "      <td>2</td>\n",
              "      <td>8</td>\n",
              "      <td>5</td>\n",
              "      <td>113</td>\n",
              "      <td>4</td>\n",
              "      <td>151300</td>\n",
              "      <td>273.861279</td>\n",
              "    </tr>\n",
              "  </tbody>\n",
              "</table>\n",
              "<p>1125 rows × 11 columns</p>\n",
              "</div>\n",
              "      <button class=\"colab-df-convert\" onclick=\"convertToInteractive('df-4f9fa2ce-2bf2-43bf-9876-923bf37e7bc4')\"\n",
              "              title=\"Convert this dataframe to an interactive table.\"\n",
              "              style=\"display:none;\">\n",
              "        \n",
              "  <svg xmlns=\"http://www.w3.org/2000/svg\" height=\"24px\"viewBox=\"0 0 24 24\"\n",
              "       width=\"24px\">\n",
              "    <path d=\"M0 0h24v24H0V0z\" fill=\"none\"/>\n",
              "    <path d=\"M18.56 5.44l.94 2.06.94-2.06 2.06-.94-2.06-.94-.94-2.06-.94 2.06-2.06.94zm-11 1L8.5 8.5l.94-2.06 2.06-.94-2.06-.94L8.5 2.5l-.94 2.06-2.06.94zm10 10l.94 2.06.94-2.06 2.06-.94-2.06-.94-.94-2.06-.94 2.06-2.06.94z\"/><path d=\"M17.41 7.96l-1.37-1.37c-.4-.4-.92-.59-1.43-.59-.52 0-1.04.2-1.43.59L10.3 9.45l-7.72 7.72c-.78.78-.78 2.05 0 2.83L4 21.41c.39.39.9.59 1.41.59.51 0 1.02-.2 1.41-.59l7.78-7.78 2.81-2.81c.8-.78.8-2.07 0-2.86zM5.41 20L4 18.59l7.72-7.72 1.47 1.35L5.41 20z\"/>\n",
              "  </svg>\n",
              "      </button>\n",
              "      \n",
              "  <style>\n",
              "    .colab-df-container {\n",
              "      display:flex;\n",
              "      flex-wrap:wrap;\n",
              "      gap: 12px;\n",
              "    }\n",
              "\n",
              "    .colab-df-convert {\n",
              "      background-color: #E8F0FE;\n",
              "      border: none;\n",
              "      border-radius: 50%;\n",
              "      cursor: pointer;\n",
              "      display: none;\n",
              "      fill: #1967D2;\n",
              "      height: 32px;\n",
              "      padding: 0 0 0 0;\n",
              "      width: 32px;\n",
              "    }\n",
              "\n",
              "    .colab-df-convert:hover {\n",
              "      background-color: #E2EBFA;\n",
              "      box-shadow: 0px 1px 2px rgba(60, 64, 67, 0.3), 0px 1px 3px 1px rgba(60, 64, 67, 0.15);\n",
              "      fill: #174EA6;\n",
              "    }\n",
              "\n",
              "    [theme=dark] .colab-df-convert {\n",
              "      background-color: #3B4455;\n",
              "      fill: #D2E3FC;\n",
              "    }\n",
              "\n",
              "    [theme=dark] .colab-df-convert:hover {\n",
              "      background-color: #434B5C;\n",
              "      box-shadow: 0px 1px 3px 1px rgba(0, 0, 0, 0.15);\n",
              "      filter: drop-shadow(0px 1px 2px rgba(0, 0, 0, 0.3));\n",
              "      fill: #FFFFFF;\n",
              "    }\n",
              "  </style>\n",
              "\n",
              "      <script>\n",
              "        const buttonEl =\n",
              "          document.querySelector('#df-4f9fa2ce-2bf2-43bf-9876-923bf37e7bc4 button.colab-df-convert');\n",
              "        buttonEl.style.display =\n",
              "          google.colab.kernel.accessAllowed ? 'block' : 'none';\n",
              "\n",
              "        async function convertToInteractive(key) {\n",
              "          const element = document.querySelector('#df-4f9fa2ce-2bf2-43bf-9876-923bf37e7bc4');\n",
              "          const dataTable =\n",
              "            await google.colab.kernel.invokeFunction('convertToInteractive',\n",
              "                                                     [key], {});\n",
              "          if (!dataTable) return;\n",
              "\n",
              "          const docLinkHtml = 'Like what you see? Visit the ' +\n",
              "            '<a target=\"_blank\" href=https://colab.research.google.com/notebooks/data_table.ipynb>data table notebook</a>'\n",
              "            + ' to learn more about interactive tables.';\n",
              "          element.innerHTML = '';\n",
              "          dataTable['output_type'] = 'display_data';\n",
              "          await google.colab.output.renderOutput(dataTable, element);\n",
              "          const docLink = document.createElement('div');\n",
              "          docLink.innerHTML = docLinkHtml;\n",
              "          element.appendChild(docLink);\n",
              "        }\n",
              "      </script>\n",
              "    </div>\n",
              "  </div>\n",
              "  "
            ]
          },
          "metadata": {},
          "execution_count": 155
        }
      ]
    },
    {
      "cell_type": "code",
      "source": [
        "y=df.iloc[:,0]\n",
        "y"
      ],
      "metadata": {
        "colab": {
          "base_uri": "https://localhost:8080/"
        },
        "id": "Ql51ph9qay0H",
        "outputId": "843c8078-a01c-455e-aad6-ea28c6302627"
      },
      "execution_count": null,
      "outputs": [
        {
          "output_type": "execute_result",
          "data": {
            "text/plain": [
              "0       1\n",
              "1       0\n",
              "2       0\n",
              "3       1\n",
              "4       0\n",
              "       ..\n",
              "1120    0\n",
              "1121    0\n",
              "1122    0\n",
              "1123    0\n",
              "1124    0\n",
              "Name: label, Length: 1125, dtype: int64"
            ]
          },
          "metadata": {},
          "execution_count": 156
        }
      ]
    },
    {
      "cell_type": "code",
      "source": [
        "from sklearn.preprocessing import MinMaxScaler\n",
        "sc=MinMaxScaler()\n",
        "X=sc.fit_transform(X)"
      ],
      "metadata": {
        "id": "-5A728FibPJ7"
      },
      "execution_count": null,
      "outputs": []
    },
    {
      "cell_type": "markdown",
      "source": [
        "Sacling is done using Min Max Scaler"
      ],
      "metadata": {
        "id": "4xqB1yFpmPig"
      }
    },
    {
      "cell_type": "code",
      "source": [
        "y.value_counts()"
      ],
      "metadata": {
        "colab": {
          "base_uri": "https://localhost:8080/"
        },
        "id": "A88AykRFbZfQ",
        "outputId": "5a651c69-55c1-48c7-e0d3-1a4691c88c14"
      },
      "execution_count": null,
      "outputs": [
        {
          "output_type": "execute_result",
          "data": {
            "text/plain": [
              "0    900\n",
              "1    225\n",
              "Name: label, dtype: int64"
            ]
          },
          "metadata": {},
          "execution_count": 158
        }
      ]
    },
    {
      "cell_type": "code",
      "source": [
        "from imblearn.over_sampling import SMOTE\n",
        "os=SMOTE(random_state=1)\n",
        "X,y=os.fit_resample(X,y)"
      ],
      "metadata": {
        "id": "qpshEcrjcmg9"
      },
      "execution_count": null,
      "outputs": []
    },
    {
      "cell_type": "markdown",
      "source": [
        "Dataset is balanced by oversampling"
      ],
      "metadata": {
        "id": "TjKaKh23mWIb"
      }
    },
    {
      "cell_type": "code",
      "source": [
        "from sklearn.model_selection import train_test_split\n",
        "X_train,X_test,y_train,y_test=train_test_split(X,y,test_size=0.3,random_state=1)"
      ],
      "metadata": {
        "id": "Owpgt4r5cxIh"
      },
      "execution_count": null,
      "outputs": []
    },
    {
      "cell_type": "code",
      "source": [
        "from sklearn.neighbors import KNeighborsClassifier\n",
        "knn=KNeighborsClassifier()\n",
        "knn.fit(X_train,y_train)\n",
        "y_pred_knn=knn.predict(X_test)\n",
        "y_pred_knn"
      ],
      "metadata": {
        "colab": {
          "base_uri": "https://localhost:8080/"
        },
        "id": "fvcT_9JRc0Vj",
        "outputId": "b1f4c42e-35a9-40eb-ec11-f44354976ff8"
      },
      "execution_count": null,
      "outputs": [
        {
          "output_type": "execute_result",
          "data": {
            "text/plain": [
              "array([1, 0, 1, 1, 1, 0, 1, 0, 1, 0, 0, 1, 0, 1, 1, 1, 1, 0, 0, 1, 1, 0,\n",
              "       1, 1, 1, 1, 1, 0, 1, 0, 0, 1, 1, 1, 1, 1, 1, 1, 0, 1, 0, 0, 1, 0,\n",
              "       0, 1, 1, 1, 0, 1, 1, 1, 1, 1, 1, 1, 1, 1, 0, 0, 0, 0, 0, 1, 0, 1,\n",
              "       0, 0, 0, 1, 1, 1, 1, 1, 0, 1, 1, 1, 1, 1, 1, 1, 1, 1, 1, 0, 0, 0,\n",
              "       1, 1, 1, 1, 0, 0, 1, 1, 1, 1, 1, 0, 1, 0, 1, 1, 0, 0, 1, 1, 1, 0,\n",
              "       1, 0, 1, 1, 0, 1, 1, 1, 0, 0, 1, 1, 0, 1, 0, 1, 1, 1, 0, 0, 0, 1,\n",
              "       1, 1, 1, 0, 1, 0, 0, 0, 1, 0, 1, 1, 0, 1, 1, 1, 0, 1, 0, 1, 0, 1,\n",
              "       1, 1, 0, 1, 0, 1, 1, 0, 0, 0, 0, 0, 0, 0, 0, 0, 0, 0, 1, 0, 1, 0,\n",
              "       1, 1, 0, 0, 0, 1, 0, 1, 1, 0, 1, 1, 0, 0, 1, 1, 0, 0, 0, 1, 1, 0,\n",
              "       1, 1, 0, 1, 1, 1, 1, 1, 1, 1, 1, 0, 1, 1, 0, 0, 1, 1, 0, 1, 0, 1,\n",
              "       0, 1, 0, 0, 1, 1, 1, 0, 1, 0, 1, 1, 0, 1, 1, 1, 0, 1, 1, 0, 0, 1,\n",
              "       1, 1, 1, 0, 0, 0, 1, 1, 0, 0, 0, 1, 1, 0, 1, 1, 1, 0, 1, 0, 1, 1,\n",
              "       1, 1, 1, 0, 0, 0, 1, 0, 1, 0, 1, 0, 1, 1, 1, 0, 1, 1, 1, 0, 0, 0,\n",
              "       1, 1, 0, 0, 1, 0, 1, 1, 1, 1, 1, 1, 1, 1, 1, 1, 1, 0, 1, 1, 1, 1,\n",
              "       1, 1, 1, 0, 0, 1, 0, 0, 1, 1, 1, 0, 1, 1, 1, 1, 1, 0, 0, 1, 1, 0,\n",
              "       0, 1, 1, 1, 0, 1, 1, 0, 0, 0, 0, 0, 1, 1, 1, 1, 1, 1, 1, 0, 1, 1,\n",
              "       1, 1, 0, 1, 1, 1, 0, 1, 1, 1, 0, 0, 1, 1, 1, 0, 1, 1, 1, 1, 0, 0,\n",
              "       1, 1, 1, 0, 1, 1, 0, 1, 1, 0, 1, 0, 1, 0, 1, 1, 1, 1, 1, 1, 1, 1,\n",
              "       1, 0, 1, 1, 0, 0, 0, 0, 1, 0, 0, 0, 1, 0, 1, 0, 1, 1, 1, 1, 1, 0,\n",
              "       1, 1, 0, 1, 1, 0, 1, 1, 1, 1, 1, 1, 1, 1, 1, 0, 1, 0, 0, 1, 1, 1,\n",
              "       1, 1, 1, 1, 0, 0, 0, 0, 0, 1, 0, 1, 1, 0, 0, 1, 1, 0, 1, 1, 1, 1,\n",
              "       0, 1, 1, 0, 0, 1, 1, 0, 1, 1, 0, 0, 0, 1, 1, 1, 1, 1, 1, 0, 1, 1,\n",
              "       0, 0, 0, 1, 1, 0, 0, 1, 1, 1, 0, 0, 1, 1, 0, 1, 0, 1, 1, 1, 1, 1,\n",
              "       1, 0, 1, 1, 1, 1, 1, 0, 0, 0, 0, 1, 1, 1, 1, 0, 1, 1, 0, 1, 0, 1,\n",
              "       1, 1, 1, 1, 0, 1, 1, 1, 0, 0, 0, 1])"
            ]
          },
          "metadata": {},
          "execution_count": 161
        }
      ]
    },
    {
      "cell_type": "code",
      "source": [
        "from sklearn.metrics import classification_report\n",
        "print(classification_report(y_test,y_pred_knn))"
      ],
      "metadata": {
        "colab": {
          "base_uri": "https://localhost:8080/"
        },
        "id": "83LX3WnKc4fq",
        "outputId": "7c27b027-23ce-424f-defa-48c3de4a68c1"
      },
      "execution_count": null,
      "outputs": [
        {
          "output_type": "stream",
          "name": "stdout",
          "text": [
            "              precision    recall  f1-score   support\n",
            "\n",
            "           0       0.79      0.60      0.68       266\n",
            "           1       0.69      0.85      0.76       274\n",
            "\n",
            "    accuracy                           0.73       540\n",
            "   macro avg       0.74      0.72      0.72       540\n",
            "weighted avg       0.74      0.73      0.72       540\n",
            "\n"
          ]
        }
      ]
    },
    {
      "cell_type": "markdown",
      "source": [
        "KNN classifiaction is done and performance measures are analysed."
      ],
      "metadata": {
        "id": "eN-vhw3KmgRN"
      }
    },
    {
      "cell_type": "code",
      "source": [
        "from sklearn.model_selection import GridSearchCV\n",
        "knn_params={'n_neighbors':[3,5,7,9],'weights':['uniform','distance'],'algorithm':['auto','ball_tree','kd_tree','brute']}"
      ],
      "metadata": {
        "id": "hwZAHpdOdDlq"
      },
      "execution_count": null,
      "outputs": []
    },
    {
      "cell_type": "code",
      "source": [
        "clf=GridSearchCV(knn,knn_params,cv=5,scoring='accuracy')\n",
        "clf.fit(X_train,y_train)\n",
        "print(clf.best_params_)"
      ],
      "metadata": {
        "colab": {
          "base_uri": "https://localhost:8080/"
        },
        "id": "MsA1_95wdL2l",
        "outputId": "899bedc0-d2a4-4e89-bb31-544b376d39f6"
      },
      "execution_count": null,
      "outputs": [
        {
          "output_type": "stream",
          "name": "stdout",
          "text": [
            "{'algorithm': 'auto', 'n_neighbors': 3, 'weights': 'distance'}\n"
          ]
        }
      ]
    },
    {
      "cell_type": "code",
      "source": [
        "knn1=KNeighborsClassifier(n_neighbors=3,weights='distance',algorithm='auto')\n",
        "knn1.fit(X_train,y_train)\n",
        "y_pred_knn1=knn1.predict(X_test)\n",
        "print(classification_report(y_test,y_pred_knn1))"
      ],
      "metadata": {
        "colab": {
          "base_uri": "https://localhost:8080/"
        },
        "id": "McJF-66ZdXW-",
        "outputId": "ccf60d5f-717f-4146-b208-47e086cb2eda"
      },
      "execution_count": null,
      "outputs": [
        {
          "output_type": "stream",
          "name": "stdout",
          "text": [
            "              precision    recall  f1-score   support\n",
            "\n",
            "           0       0.88      0.69      0.77       266\n",
            "           1       0.75      0.91      0.82       274\n",
            "\n",
            "    accuracy                           0.80       540\n",
            "   macro avg       0.81      0.80      0.80       540\n",
            "weighted avg       0.81      0.80      0.80       540\n",
            "\n"
          ]
        }
      ]
    },
    {
      "cell_type": "markdown",
      "source": [
        "Hyperparameter tuning is done in KNN and best model is selected using Grid search method, and the accuracy is increased from 73% to 80%."
      ],
      "metadata": {
        "id": "AMNV8S39mp9k"
      }
    },
    {
      "cell_type": "code",
      "source": [
        "from sklearn.svm import SVC\n",
        "sv=SVC()\n",
        "sv.fit(X_train,y_train)\n",
        "y_pred_svm=sv.predict(X_test)\n",
        "print(classification_report(y_test,y_pred_svm))"
      ],
      "metadata": {
        "colab": {
          "base_uri": "https://localhost:8080/"
        },
        "id": "8laEeqNGd0Il",
        "outputId": "064418e6-df52-4e7d-a756-d562e1a98d47"
      },
      "execution_count": null,
      "outputs": [
        {
          "output_type": "stream",
          "name": "stdout",
          "text": [
            "              precision    recall  f1-score   support\n",
            "\n",
            "           0       0.67      0.51      0.58       266\n",
            "           1       0.61      0.75      0.68       274\n",
            "\n",
            "    accuracy                           0.63       540\n",
            "   macro avg       0.64      0.63      0.63       540\n",
            "weighted avg       0.64      0.63      0.63       540\n",
            "\n"
          ]
        }
      ]
    },
    {
      "cell_type": "markdown",
      "source": [
        "Support Vector classifier is used to predict."
      ],
      "metadata": {
        "id": "6HTSIaBCocit"
      }
    },
    {
      "cell_type": "code",
      "source": [
        "svm_params={'degree':[3,5,7,9],'kernel':['linear', 'poly','rbf', 'sigmoid'],'gamma':['scale','auto'],'decision_function_shape':['ovo', 'ovr']}"
      ],
      "metadata": {
        "id": "wShg_EVPhy0Q"
      },
      "execution_count": null,
      "outputs": []
    },
    {
      "cell_type": "code",
      "source": [
        "sv=SVC()\n",
        "clf_svm=GridSearchCV(sv,svm_params,cv=5,scoring='accuracy')\n",
        "clf_svm.fit(X_train,y_train)\n",
        "print(clf_svm.best_params_)"
      ],
      "metadata": {
        "colab": {
          "base_uri": "https://localhost:8080/"
        },
        "id": "HihW8tHChT8c",
        "outputId": "59b06291-b11c-4f01-9342-1bfaeebefe92"
      },
      "execution_count": null,
      "outputs": [
        {
          "output_type": "stream",
          "name": "stdout",
          "text": [
            "{'decision_function_shape': 'ovo', 'degree': 9, 'gamma': 'scale', 'kernel': 'poly'}\n"
          ]
        }
      ]
    },
    {
      "cell_type": "code",
      "source": [
        "sv_1=SVC(decision_function_shape='ovo',degree=9,gamma='scale',kernel='poly')\n",
        "sv_1.fit(X_train,y_train)\n",
        "y_pred_svm1=sv_1.predict(X_test)\n",
        "print(classification_report(y_test,y_pred_svm1))"
      ],
      "metadata": {
        "colab": {
          "base_uri": "https://localhost:8080/"
        },
        "id": "hgjOEafomTkU",
        "outputId": "2b2cce7b-8bc3-48c5-e7d8-433c5b3606ac"
      },
      "execution_count": null,
      "outputs": [
        {
          "output_type": "stream",
          "name": "stdout",
          "text": [
            "              precision    recall  f1-score   support\n",
            "\n",
            "           0       0.86      0.72      0.78       266\n",
            "           1       0.76      0.89      0.82       274\n",
            "\n",
            "    accuracy                           0.81       540\n",
            "   macro avg       0.81      0.80      0.80       540\n",
            "weighted avg       0.81      0.81      0.80       540\n",
            "\n"
          ]
        }
      ]
    },
    {
      "cell_type": "markdown",
      "source": [
        "Hyperparameter tuning is done in SVC and the accuracy is increased from 63% to 81%"
      ],
      "metadata": {
        "id": "WLLDmoQUqEIk"
      }
    },
    {
      "cell_type": "code",
      "source": [
        "from sklearn.naive_bayes import GaussianNB\n",
        "nb=GaussianNB()\n",
        "nb.fit(X_train,y_train)\n",
        "y_pred_nb=nb.predict(X_test)\n",
        "print(classification_report(y_test,y_pred_nb))"
      ],
      "metadata": {
        "colab": {
          "base_uri": "https://localhost:8080/"
        },
        "id": "bbStjKHPm3sY",
        "outputId": "8c963162-2fe4-47a2-902d-23c90f6b7453"
      },
      "execution_count": null,
      "outputs": [
        {
          "output_type": "stream",
          "name": "stdout",
          "text": [
            "              precision    recall  f1-score   support\n",
            "\n",
            "           0       0.63      0.41      0.50       266\n",
            "           1       0.57      0.77      0.66       274\n",
            "\n",
            "    accuracy                           0.59       540\n",
            "   macro avg       0.60      0.59      0.58       540\n",
            "weighted avg       0.60      0.59      0.58       540\n",
            "\n"
          ]
        }
      ]
    },
    {
      "cell_type": "markdown",
      "source": [
        "Prediction is done using Naive Bayes algorithm"
      ],
      "metadata": {
        "id": "T4Y9yheWxlE8"
      }
    },
    {
      "cell_type": "code",
      "source": [
        "GaussianNB().get_params().keys()"
      ],
      "metadata": {
        "colab": {
          "base_uri": "https://localhost:8080/"
        },
        "id": "ZY2-90vFn6LS",
        "outputId": "534f5ee5-0755-419f-aa3e-0a8af2fcf609"
      },
      "execution_count": null,
      "outputs": [
        {
          "output_type": "execute_result",
          "data": {
            "text/plain": [
              "dict_keys(['priors', 'var_smoothing'])"
            ]
          },
          "metadata": {},
          "execution_count": 171
        }
      ]
    },
    {
      "cell_type": "code",
      "source": [
        "nb_params={'var_smoothing':[0.00000001, 0.000000001, 0.00000001]}\n"
      ],
      "metadata": {
        "id": "G7OuG_SvpUd_"
      },
      "execution_count": null,
      "outputs": []
    },
    {
      "cell_type": "code",
      "source": [
        "clf_nb=GridSearchCV(nb,nb_params,cv=5,scoring='accuracy')\n",
        "clf_nb.fit(X_train,y_train)\n",
        "print(clf_nb.best_params_)"
      ],
      "metadata": {
        "colab": {
          "base_uri": "https://localhost:8080/"
        },
        "id": "568P3eUwp5Fb",
        "outputId": "1d04b898-c1ad-44d7-d876-dca08359302f"
      },
      "execution_count": null,
      "outputs": [
        {
          "output_type": "stream",
          "name": "stdout",
          "text": [
            "{'var_smoothing': 1e-08}\n"
          ]
        }
      ]
    },
    {
      "cell_type": "code",
      "source": [
        "nb_1=GaussianNB(var_smoothing=1e-08)\n",
        "nb_1.fit(X_train,y_train)\n",
        "y_pred_nb_1=nb_1.predict(X_test)\n",
        "print(classification_report(y_test,y_pred_nb_1))"
      ],
      "metadata": {
        "colab": {
          "base_uri": "https://localhost:8080/"
        },
        "id": "1EOmCKmEqOr4",
        "outputId": "cba498f3-1054-4e77-a156-779fc63aac54"
      },
      "execution_count": null,
      "outputs": [
        {
          "output_type": "stream",
          "name": "stdout",
          "text": [
            "              precision    recall  f1-score   support\n",
            "\n",
            "           0       0.63      0.41      0.50       266\n",
            "           1       0.57      0.77      0.66       274\n",
            "\n",
            "    accuracy                           0.59       540\n",
            "   macro avg       0.60      0.59      0.58       540\n",
            "weighted avg       0.60      0.59      0.58       540\n",
            "\n"
          ]
        }
      ]
    },
    {
      "cell_type": "markdown",
      "source": [
        "Hyperparameter tuning is done and there is no change in the accuracy"
      ],
      "metadata": {
        "id": "k4VP1Qh4xwa-"
      }
    },
    {
      "cell_type": "code",
      "source": [
        "from sklearn.ensemble import RandomForestClassifier\n",
        "rf=RandomForestClassifier()\n",
        "rf.fit(X_train,y_train)\n",
        "y_pred_rf=rf.predict(X_test)\n",
        "print(classification_report(y_test,y_pred_rf))\n"
      ],
      "metadata": {
        "colab": {
          "base_uri": "https://localhost:8080/"
        },
        "id": "YnISi-p0qjuC",
        "outputId": "eb7679cf-dd52-440e-bb5f-cbf4e808eda8"
      },
      "execution_count": null,
      "outputs": [
        {
          "output_type": "stream",
          "name": "stdout",
          "text": [
            "              precision    recall  f1-score   support\n",
            "\n",
            "           0       0.82      0.90      0.86       266\n",
            "           1       0.89      0.80      0.85       274\n",
            "\n",
            "    accuracy                           0.85       540\n",
            "   macro avg       0.86      0.85      0.85       540\n",
            "weighted avg       0.86      0.85      0.85       540\n",
            "\n"
          ]
        }
      ]
    },
    {
      "cell_type": "markdown",
      "source": [
        "Random forest classifier is used to predict."
      ],
      "metadata": {
        "id": "7U0lzBzsx980"
      }
    },
    {
      "cell_type": "code",
      "source": [
        "rf_params={'n_estimators':[10,20,30,40,50,60,70,80,90,100],'criterion':['entropy','gini','log_loss']}"
      ],
      "metadata": {
        "id": "gmmSuFxbzfPs"
      },
      "execution_count": null,
      "outputs": []
    },
    {
      "cell_type": "code",
      "source": [
        "clf_rf=GridSearchCV(rf,rf_params,cv=5,scoring='accuracy')\n",
        "clf_rf.fit(X_train,y_train)\n",
        "print(clf_rf.best_params_)"
      ],
      "metadata": {
        "colab": {
          "base_uri": "https://localhost:8080/"
        },
        "id": "fuGRTRER0sVT",
        "outputId": "bf7ce49b-b835-450d-e0f2-ad870c5d0b01"
      },
      "execution_count": null,
      "outputs": [
        {
          "output_type": "stream",
          "name": "stdout",
          "text": [
            "{'criterion': 'log_loss', 'n_estimators': 100}\n"
          ]
        }
      ]
    },
    {
      "cell_type": "code",
      "source": [
        "rf_1=RandomForestClassifier(n_estimators=100,criterion='log_loss')\n",
        "rf_1.fit(X_train,y_train)\n",
        "y_pred_rf_1=rf_1.predict(X_test)\n",
        "print(classification_report(y_test,y_pred_rf_1))"
      ],
      "metadata": {
        "colab": {
          "base_uri": "https://localhost:8080/"
        },
        "id": "IHm9d7If1D2v",
        "outputId": "aedc966d-a2ee-4d56-8787-fa180555d999"
      },
      "execution_count": null,
      "outputs": [
        {
          "output_type": "stream",
          "name": "stdout",
          "text": [
            "              precision    recall  f1-score   support\n",
            "\n",
            "           0       0.82      0.89      0.85       266\n",
            "           1       0.88      0.81      0.85       274\n",
            "\n",
            "    accuracy                           0.85       540\n",
            "   macro avg       0.85      0.85      0.85       540\n",
            "weighted avg       0.85      0.85      0.85       540\n",
            "\n"
          ]
        }
      ]
    },
    {
      "cell_type": "markdown",
      "source": [
        "After hyperparameter tuning there is no improvement in the acuracy"
      ],
      "metadata": {
        "id": "elCYFkCQyJO7"
      }
    },
    {
      "cell_type": "code",
      "source": [
        "from sklearn.ensemble import AdaBoostClassifier\n",
        "ad=AdaBoostClassifier()\n",
        "ad.fit(X_train,y_train)\n",
        "y_pred_ad=ad.predict(X_test)\n",
        "print(classification_report(y_test,y_pred_ad))"
      ],
      "metadata": {
        "colab": {
          "base_uri": "https://localhost:8080/"
        },
        "id": "v-LNMGAt1leg",
        "outputId": "7a64c669-6832-483b-cf1a-e86cebbf3ef6"
      },
      "execution_count": null,
      "outputs": [
        {
          "output_type": "stream",
          "name": "stdout",
          "text": [
            "              precision    recall  f1-score   support\n",
            "\n",
            "           0       0.73      0.75      0.74       266\n",
            "           1       0.75      0.74      0.74       274\n",
            "\n",
            "    accuracy                           0.74       540\n",
            "   macro avg       0.74      0.74      0.74       540\n",
            "weighted avg       0.74      0.74      0.74       540\n",
            "\n"
          ]
        }
      ]
    },
    {
      "cell_type": "markdown",
      "source": [
        "Adaboost classifier is used to predict."
      ],
      "metadata": {
        "id": "cuvQPl_3ygLU"
      }
    },
    {
      "cell_type": "code",
      "source": [
        "ad_params={'n_estimators':[10,20,30,40,50,60,70,80,90,100],'learning_rate':[0.0001, 0.001, 0.01, 0.1, 1.0],'algorithm':['SAMME','SAMME.R']}"
      ],
      "metadata": {
        "id": "7NYbRGlE5Ys9"
      },
      "execution_count": null,
      "outputs": []
    },
    {
      "cell_type": "code",
      "source": [
        "clf_ad=GridSearchCV(ad,ad_params,cv=5,scoring='accuracy')\n",
        "clf_ad.fit(X_train,y_train)\n",
        "print(clf_ad.best_params_)"
      ],
      "metadata": {
        "colab": {
          "base_uri": "https://localhost:8080/"
        },
        "id": "YulrZQNI7Z3t",
        "outputId": "1c46841e-9635-4352-ea42-52c1c3b9ae2c"
      },
      "execution_count": null,
      "outputs": [
        {
          "output_type": "stream",
          "name": "stdout",
          "text": [
            "{'algorithm': 'SAMME.R', 'learning_rate': 1.0, 'n_estimators': 100}\n"
          ]
        }
      ]
    },
    {
      "cell_type": "code",
      "source": [
        "ad_1=AdaBoostClassifier(algorithm='SAMME.R',learning_rate=1.0,n_estimators=100)\n",
        "ad_1.fit(X_train,y_train)\n",
        "y_pred_ad_1=ad_1.predict(X_test)\n",
        "print(classification_report(y_test,y_pred_ad_1))"
      ],
      "metadata": {
        "colab": {
          "base_uri": "https://localhost:8080/"
        },
        "id": "YP5dlCDN82aS",
        "outputId": "22eb5d66-1f69-4035-e88b-0396fafc451a"
      },
      "execution_count": null,
      "outputs": [
        {
          "output_type": "stream",
          "name": "stdout",
          "text": [
            "              precision    recall  f1-score   support\n",
            "\n",
            "           0       0.72      0.77      0.75       266\n",
            "           1       0.76      0.71      0.74       274\n",
            "\n",
            "    accuracy                           0.74       540\n",
            "   macro avg       0.74      0.74      0.74       540\n",
            "weighted avg       0.74      0.74      0.74       540\n",
            "\n"
          ]
        }
      ]
    },
    {
      "cell_type": "markdown",
      "source": [
        "After hyperparmeter tuning there is no improvement in the terms of accuracy."
      ],
      "metadata": {
        "id": "onIc-lHDynLj"
      }
    },
    {
      "cell_type": "code",
      "source": [
        "df.drop(['fea_2','fea_7','fea_8'],axis=1,inplace=True)"
      ],
      "metadata": {
        "id": "-65Kt0JB9Y2Q"
      },
      "execution_count": null,
      "outputs": []
    },
    {
      "cell_type": "markdown",
      "source": [
        "Feature selection is done by droping the columns which have less correlation with the class label"
      ],
      "metadata": {
        "id": "WSHST-cFywZ8"
      }
    },
    {
      "cell_type": "code",
      "source": [
        "df"
      ],
      "metadata": {
        "colab": {
          "base_uri": "https://localhost:8080/",
          "height": 423
        },
        "id": "-FyX5e6G5PO3",
        "outputId": "3e791938-a925-4174-fdd6-6352a4162584"
      },
      "execution_count": null,
      "outputs": [
        {
          "output_type": "execute_result",
          "data": {
            "text/plain": [
              "      label  fea_1  fea_3     fea_4  fea_5  fea_6  fea_9  fea_10      fea_11\n",
              "0         1      5      3   77000.0      2     15      5  151300  244.948974\n",
              "1         0      4      1  113000.0      2      8      3  341759  207.173840\n",
              "2         0      7      1  110000.0      2     11      5   72001    1.000000\n",
              "3         1      7      1  151000.0      2     11      3   60084    1.000000\n",
              "4         0      7      2   59000.0      2     11      4  450081  197.403141\n",
              "...     ...    ...    ...       ...    ...    ...    ...     ...         ...\n",
              "1120      0      5      1  173000.0      2     15      3  350702  200.000000\n",
              "1121      0      5      2   50000.0      2     15      4  450000  169.000000\n",
              "1122      0      7      3   76000.0      2     11      5   71002    1.000000\n",
              "1123      0      4      3  137000.0      2      8      5   72000    1.000000\n",
              "1124      0      4      3   93000.0      2      8      4  151300  273.861279\n",
              "\n",
              "[1125 rows x 9 columns]"
            ],
            "text/html": [
              "\n",
              "  <div id=\"df-381c57c3-4105-4bf2-9987-ea7d35c84f98\">\n",
              "    <div class=\"colab-df-container\">\n",
              "      <div>\n",
              "<style scoped>\n",
              "    .dataframe tbody tr th:only-of-type {\n",
              "        vertical-align: middle;\n",
              "    }\n",
              "\n",
              "    .dataframe tbody tr th {\n",
              "        vertical-align: top;\n",
              "    }\n",
              "\n",
              "    .dataframe thead th {\n",
              "        text-align: right;\n",
              "    }\n",
              "</style>\n",
              "<table border=\"1\" class=\"dataframe\">\n",
              "  <thead>\n",
              "    <tr style=\"text-align: right;\">\n",
              "      <th></th>\n",
              "      <th>label</th>\n",
              "      <th>fea_1</th>\n",
              "      <th>fea_3</th>\n",
              "      <th>fea_4</th>\n",
              "      <th>fea_5</th>\n",
              "      <th>fea_6</th>\n",
              "      <th>fea_9</th>\n",
              "      <th>fea_10</th>\n",
              "      <th>fea_11</th>\n",
              "    </tr>\n",
              "  </thead>\n",
              "  <tbody>\n",
              "    <tr>\n",
              "      <th>0</th>\n",
              "      <td>1</td>\n",
              "      <td>5</td>\n",
              "      <td>3</td>\n",
              "      <td>77000.0</td>\n",
              "      <td>2</td>\n",
              "      <td>15</td>\n",
              "      <td>5</td>\n",
              "      <td>151300</td>\n",
              "      <td>244.948974</td>\n",
              "    </tr>\n",
              "    <tr>\n",
              "      <th>1</th>\n",
              "      <td>0</td>\n",
              "      <td>4</td>\n",
              "      <td>1</td>\n",
              "      <td>113000.0</td>\n",
              "      <td>2</td>\n",
              "      <td>8</td>\n",
              "      <td>3</td>\n",
              "      <td>341759</td>\n",
              "      <td>207.173840</td>\n",
              "    </tr>\n",
              "    <tr>\n",
              "      <th>2</th>\n",
              "      <td>0</td>\n",
              "      <td>7</td>\n",
              "      <td>1</td>\n",
              "      <td>110000.0</td>\n",
              "      <td>2</td>\n",
              "      <td>11</td>\n",
              "      <td>5</td>\n",
              "      <td>72001</td>\n",
              "      <td>1.000000</td>\n",
              "    </tr>\n",
              "    <tr>\n",
              "      <th>3</th>\n",
              "      <td>1</td>\n",
              "      <td>7</td>\n",
              "      <td>1</td>\n",
              "      <td>151000.0</td>\n",
              "      <td>2</td>\n",
              "      <td>11</td>\n",
              "      <td>3</td>\n",
              "      <td>60084</td>\n",
              "      <td>1.000000</td>\n",
              "    </tr>\n",
              "    <tr>\n",
              "      <th>4</th>\n",
              "      <td>0</td>\n",
              "      <td>7</td>\n",
              "      <td>2</td>\n",
              "      <td>59000.0</td>\n",
              "      <td>2</td>\n",
              "      <td>11</td>\n",
              "      <td>4</td>\n",
              "      <td>450081</td>\n",
              "      <td>197.403141</td>\n",
              "    </tr>\n",
              "    <tr>\n",
              "      <th>...</th>\n",
              "      <td>...</td>\n",
              "      <td>...</td>\n",
              "      <td>...</td>\n",
              "      <td>...</td>\n",
              "      <td>...</td>\n",
              "      <td>...</td>\n",
              "      <td>...</td>\n",
              "      <td>...</td>\n",
              "      <td>...</td>\n",
              "    </tr>\n",
              "    <tr>\n",
              "      <th>1120</th>\n",
              "      <td>0</td>\n",
              "      <td>5</td>\n",
              "      <td>1</td>\n",
              "      <td>173000.0</td>\n",
              "      <td>2</td>\n",
              "      <td>15</td>\n",
              "      <td>3</td>\n",
              "      <td>350702</td>\n",
              "      <td>200.000000</td>\n",
              "    </tr>\n",
              "    <tr>\n",
              "      <th>1121</th>\n",
              "      <td>0</td>\n",
              "      <td>5</td>\n",
              "      <td>2</td>\n",
              "      <td>50000.0</td>\n",
              "      <td>2</td>\n",
              "      <td>15</td>\n",
              "      <td>4</td>\n",
              "      <td>450000</td>\n",
              "      <td>169.000000</td>\n",
              "    </tr>\n",
              "    <tr>\n",
              "      <th>1122</th>\n",
              "      <td>0</td>\n",
              "      <td>7</td>\n",
              "      <td>3</td>\n",
              "      <td>76000.0</td>\n",
              "      <td>2</td>\n",
              "      <td>11</td>\n",
              "      <td>5</td>\n",
              "      <td>71002</td>\n",
              "      <td>1.000000</td>\n",
              "    </tr>\n",
              "    <tr>\n",
              "      <th>1123</th>\n",
              "      <td>0</td>\n",
              "      <td>4</td>\n",
              "      <td>3</td>\n",
              "      <td>137000.0</td>\n",
              "      <td>2</td>\n",
              "      <td>8</td>\n",
              "      <td>5</td>\n",
              "      <td>72000</td>\n",
              "      <td>1.000000</td>\n",
              "    </tr>\n",
              "    <tr>\n",
              "      <th>1124</th>\n",
              "      <td>0</td>\n",
              "      <td>4</td>\n",
              "      <td>3</td>\n",
              "      <td>93000.0</td>\n",
              "      <td>2</td>\n",
              "      <td>8</td>\n",
              "      <td>4</td>\n",
              "      <td>151300</td>\n",
              "      <td>273.861279</td>\n",
              "    </tr>\n",
              "  </tbody>\n",
              "</table>\n",
              "<p>1125 rows × 9 columns</p>\n",
              "</div>\n",
              "      <button class=\"colab-df-convert\" onclick=\"convertToInteractive('df-381c57c3-4105-4bf2-9987-ea7d35c84f98')\"\n",
              "              title=\"Convert this dataframe to an interactive table.\"\n",
              "              style=\"display:none;\">\n",
              "        \n",
              "  <svg xmlns=\"http://www.w3.org/2000/svg\" height=\"24px\"viewBox=\"0 0 24 24\"\n",
              "       width=\"24px\">\n",
              "    <path d=\"M0 0h24v24H0V0z\" fill=\"none\"/>\n",
              "    <path d=\"M18.56 5.44l.94 2.06.94-2.06 2.06-.94-2.06-.94-.94-2.06-.94 2.06-2.06.94zm-11 1L8.5 8.5l.94-2.06 2.06-.94-2.06-.94L8.5 2.5l-.94 2.06-2.06.94zm10 10l.94 2.06.94-2.06 2.06-.94-2.06-.94-.94-2.06-.94 2.06-2.06.94z\"/><path d=\"M17.41 7.96l-1.37-1.37c-.4-.4-.92-.59-1.43-.59-.52 0-1.04.2-1.43.59L10.3 9.45l-7.72 7.72c-.78.78-.78 2.05 0 2.83L4 21.41c.39.39.9.59 1.41.59.51 0 1.02-.2 1.41-.59l7.78-7.78 2.81-2.81c.8-.78.8-2.07 0-2.86zM5.41 20L4 18.59l7.72-7.72 1.47 1.35L5.41 20z\"/>\n",
              "  </svg>\n",
              "      </button>\n",
              "      \n",
              "  <style>\n",
              "    .colab-df-container {\n",
              "      display:flex;\n",
              "      flex-wrap:wrap;\n",
              "      gap: 12px;\n",
              "    }\n",
              "\n",
              "    .colab-df-convert {\n",
              "      background-color: #E8F0FE;\n",
              "      border: none;\n",
              "      border-radius: 50%;\n",
              "      cursor: pointer;\n",
              "      display: none;\n",
              "      fill: #1967D2;\n",
              "      height: 32px;\n",
              "      padding: 0 0 0 0;\n",
              "      width: 32px;\n",
              "    }\n",
              "\n",
              "    .colab-df-convert:hover {\n",
              "      background-color: #E2EBFA;\n",
              "      box-shadow: 0px 1px 2px rgba(60, 64, 67, 0.3), 0px 1px 3px 1px rgba(60, 64, 67, 0.15);\n",
              "      fill: #174EA6;\n",
              "    }\n",
              "\n",
              "    [theme=dark] .colab-df-convert {\n",
              "      background-color: #3B4455;\n",
              "      fill: #D2E3FC;\n",
              "    }\n",
              "\n",
              "    [theme=dark] .colab-df-convert:hover {\n",
              "      background-color: #434B5C;\n",
              "      box-shadow: 0px 1px 3px 1px rgba(0, 0, 0, 0.15);\n",
              "      filter: drop-shadow(0px 1px 2px rgba(0, 0, 0, 0.3));\n",
              "      fill: #FFFFFF;\n",
              "    }\n",
              "  </style>\n",
              "\n",
              "      <script>\n",
              "        const buttonEl =\n",
              "          document.querySelector('#df-381c57c3-4105-4bf2-9987-ea7d35c84f98 button.colab-df-convert');\n",
              "        buttonEl.style.display =\n",
              "          google.colab.kernel.accessAllowed ? 'block' : 'none';\n",
              "\n",
              "        async function convertToInteractive(key) {\n",
              "          const element = document.querySelector('#df-381c57c3-4105-4bf2-9987-ea7d35c84f98');\n",
              "          const dataTable =\n",
              "            await google.colab.kernel.invokeFunction('convertToInteractive',\n",
              "                                                     [key], {});\n",
              "          if (!dataTable) return;\n",
              "\n",
              "          const docLinkHtml = 'Like what you see? Visit the ' +\n",
              "            '<a target=\"_blank\" href=https://colab.research.google.com/notebooks/data_table.ipynb>data table notebook</a>'\n",
              "            + ' to learn more about interactive tables.';\n",
              "          element.innerHTML = '';\n",
              "          dataTable['output_type'] = 'display_data';\n",
              "          await google.colab.output.renderOutput(dataTable, element);\n",
              "          const docLink = document.createElement('div');\n",
              "          docLink.innerHTML = docLinkHtml;\n",
              "          element.appendChild(docLink);\n",
              "        }\n",
              "      </script>\n",
              "    </div>\n",
              "  </div>\n",
              "  "
            ]
          },
          "metadata": {},
          "execution_count": 186
        }
      ]
    },
    {
      "cell_type": "code",
      "source": [
        "X=df.iloc[:,1:]\n",
        "X"
      ],
      "metadata": {
        "colab": {
          "base_uri": "https://localhost:8080/",
          "height": 423
        },
        "id": "MBJSExnKRq3Y",
        "outputId": "d57bb67e-1983-4906-d0fc-a48fbbd1e5e8"
      },
      "execution_count": null,
      "outputs": [
        {
          "output_type": "execute_result",
          "data": {
            "text/plain": [
              "      fea_1  fea_3     fea_4  fea_5  fea_6  fea_9  fea_10      fea_11\n",
              "0         5      3   77000.0      2     15      5  151300  244.948974\n",
              "1         4      1  113000.0      2      8      3  341759  207.173840\n",
              "2         7      1  110000.0      2     11      5   72001    1.000000\n",
              "3         7      1  151000.0      2     11      3   60084    1.000000\n",
              "4         7      2   59000.0      2     11      4  450081  197.403141\n",
              "...     ...    ...       ...    ...    ...    ...     ...         ...\n",
              "1120      5      1  173000.0      2     15      3  350702  200.000000\n",
              "1121      5      2   50000.0      2     15      4  450000  169.000000\n",
              "1122      7      3   76000.0      2     11      5   71002    1.000000\n",
              "1123      4      3  137000.0      2      8      5   72000    1.000000\n",
              "1124      4      3   93000.0      2      8      4  151300  273.861279\n",
              "\n",
              "[1125 rows x 8 columns]"
            ],
            "text/html": [
              "\n",
              "  <div id=\"df-927e9539-6250-41ef-9dce-8d002c6b9938\">\n",
              "    <div class=\"colab-df-container\">\n",
              "      <div>\n",
              "<style scoped>\n",
              "    .dataframe tbody tr th:only-of-type {\n",
              "        vertical-align: middle;\n",
              "    }\n",
              "\n",
              "    .dataframe tbody tr th {\n",
              "        vertical-align: top;\n",
              "    }\n",
              "\n",
              "    .dataframe thead th {\n",
              "        text-align: right;\n",
              "    }\n",
              "</style>\n",
              "<table border=\"1\" class=\"dataframe\">\n",
              "  <thead>\n",
              "    <tr style=\"text-align: right;\">\n",
              "      <th></th>\n",
              "      <th>fea_1</th>\n",
              "      <th>fea_3</th>\n",
              "      <th>fea_4</th>\n",
              "      <th>fea_5</th>\n",
              "      <th>fea_6</th>\n",
              "      <th>fea_9</th>\n",
              "      <th>fea_10</th>\n",
              "      <th>fea_11</th>\n",
              "    </tr>\n",
              "  </thead>\n",
              "  <tbody>\n",
              "    <tr>\n",
              "      <th>0</th>\n",
              "      <td>5</td>\n",
              "      <td>3</td>\n",
              "      <td>77000.0</td>\n",
              "      <td>2</td>\n",
              "      <td>15</td>\n",
              "      <td>5</td>\n",
              "      <td>151300</td>\n",
              "      <td>244.948974</td>\n",
              "    </tr>\n",
              "    <tr>\n",
              "      <th>1</th>\n",
              "      <td>4</td>\n",
              "      <td>1</td>\n",
              "      <td>113000.0</td>\n",
              "      <td>2</td>\n",
              "      <td>8</td>\n",
              "      <td>3</td>\n",
              "      <td>341759</td>\n",
              "      <td>207.173840</td>\n",
              "    </tr>\n",
              "    <tr>\n",
              "      <th>2</th>\n",
              "      <td>7</td>\n",
              "      <td>1</td>\n",
              "      <td>110000.0</td>\n",
              "      <td>2</td>\n",
              "      <td>11</td>\n",
              "      <td>5</td>\n",
              "      <td>72001</td>\n",
              "      <td>1.000000</td>\n",
              "    </tr>\n",
              "    <tr>\n",
              "      <th>3</th>\n",
              "      <td>7</td>\n",
              "      <td>1</td>\n",
              "      <td>151000.0</td>\n",
              "      <td>2</td>\n",
              "      <td>11</td>\n",
              "      <td>3</td>\n",
              "      <td>60084</td>\n",
              "      <td>1.000000</td>\n",
              "    </tr>\n",
              "    <tr>\n",
              "      <th>4</th>\n",
              "      <td>7</td>\n",
              "      <td>2</td>\n",
              "      <td>59000.0</td>\n",
              "      <td>2</td>\n",
              "      <td>11</td>\n",
              "      <td>4</td>\n",
              "      <td>450081</td>\n",
              "      <td>197.403141</td>\n",
              "    </tr>\n",
              "    <tr>\n",
              "      <th>...</th>\n",
              "      <td>...</td>\n",
              "      <td>...</td>\n",
              "      <td>...</td>\n",
              "      <td>...</td>\n",
              "      <td>...</td>\n",
              "      <td>...</td>\n",
              "      <td>...</td>\n",
              "      <td>...</td>\n",
              "    </tr>\n",
              "    <tr>\n",
              "      <th>1120</th>\n",
              "      <td>5</td>\n",
              "      <td>1</td>\n",
              "      <td>173000.0</td>\n",
              "      <td>2</td>\n",
              "      <td>15</td>\n",
              "      <td>3</td>\n",
              "      <td>350702</td>\n",
              "      <td>200.000000</td>\n",
              "    </tr>\n",
              "    <tr>\n",
              "      <th>1121</th>\n",
              "      <td>5</td>\n",
              "      <td>2</td>\n",
              "      <td>50000.0</td>\n",
              "      <td>2</td>\n",
              "      <td>15</td>\n",
              "      <td>4</td>\n",
              "      <td>450000</td>\n",
              "      <td>169.000000</td>\n",
              "    </tr>\n",
              "    <tr>\n",
              "      <th>1122</th>\n",
              "      <td>7</td>\n",
              "      <td>3</td>\n",
              "      <td>76000.0</td>\n",
              "      <td>2</td>\n",
              "      <td>11</td>\n",
              "      <td>5</td>\n",
              "      <td>71002</td>\n",
              "      <td>1.000000</td>\n",
              "    </tr>\n",
              "    <tr>\n",
              "      <th>1123</th>\n",
              "      <td>4</td>\n",
              "      <td>3</td>\n",
              "      <td>137000.0</td>\n",
              "      <td>2</td>\n",
              "      <td>8</td>\n",
              "      <td>5</td>\n",
              "      <td>72000</td>\n",
              "      <td>1.000000</td>\n",
              "    </tr>\n",
              "    <tr>\n",
              "      <th>1124</th>\n",
              "      <td>4</td>\n",
              "      <td>3</td>\n",
              "      <td>93000.0</td>\n",
              "      <td>2</td>\n",
              "      <td>8</td>\n",
              "      <td>4</td>\n",
              "      <td>151300</td>\n",
              "      <td>273.861279</td>\n",
              "    </tr>\n",
              "  </tbody>\n",
              "</table>\n",
              "<p>1125 rows × 8 columns</p>\n",
              "</div>\n",
              "      <button class=\"colab-df-convert\" onclick=\"convertToInteractive('df-927e9539-6250-41ef-9dce-8d002c6b9938')\"\n",
              "              title=\"Convert this dataframe to an interactive table.\"\n",
              "              style=\"display:none;\">\n",
              "        \n",
              "  <svg xmlns=\"http://www.w3.org/2000/svg\" height=\"24px\"viewBox=\"0 0 24 24\"\n",
              "       width=\"24px\">\n",
              "    <path d=\"M0 0h24v24H0V0z\" fill=\"none\"/>\n",
              "    <path d=\"M18.56 5.44l.94 2.06.94-2.06 2.06-.94-2.06-.94-.94-2.06-.94 2.06-2.06.94zm-11 1L8.5 8.5l.94-2.06 2.06-.94-2.06-.94L8.5 2.5l-.94 2.06-2.06.94zm10 10l.94 2.06.94-2.06 2.06-.94-2.06-.94-.94-2.06-.94 2.06-2.06.94z\"/><path d=\"M17.41 7.96l-1.37-1.37c-.4-.4-.92-.59-1.43-.59-.52 0-1.04.2-1.43.59L10.3 9.45l-7.72 7.72c-.78.78-.78 2.05 0 2.83L4 21.41c.39.39.9.59 1.41.59.51 0 1.02-.2 1.41-.59l7.78-7.78 2.81-2.81c.8-.78.8-2.07 0-2.86zM5.41 20L4 18.59l7.72-7.72 1.47 1.35L5.41 20z\"/>\n",
              "  </svg>\n",
              "      </button>\n",
              "      \n",
              "  <style>\n",
              "    .colab-df-container {\n",
              "      display:flex;\n",
              "      flex-wrap:wrap;\n",
              "      gap: 12px;\n",
              "    }\n",
              "\n",
              "    .colab-df-convert {\n",
              "      background-color: #E8F0FE;\n",
              "      border: none;\n",
              "      border-radius: 50%;\n",
              "      cursor: pointer;\n",
              "      display: none;\n",
              "      fill: #1967D2;\n",
              "      height: 32px;\n",
              "      padding: 0 0 0 0;\n",
              "      width: 32px;\n",
              "    }\n",
              "\n",
              "    .colab-df-convert:hover {\n",
              "      background-color: #E2EBFA;\n",
              "      box-shadow: 0px 1px 2px rgba(60, 64, 67, 0.3), 0px 1px 3px 1px rgba(60, 64, 67, 0.15);\n",
              "      fill: #174EA6;\n",
              "    }\n",
              "\n",
              "    [theme=dark] .colab-df-convert {\n",
              "      background-color: #3B4455;\n",
              "      fill: #D2E3FC;\n",
              "    }\n",
              "\n",
              "    [theme=dark] .colab-df-convert:hover {\n",
              "      background-color: #434B5C;\n",
              "      box-shadow: 0px 1px 3px 1px rgba(0, 0, 0, 0.15);\n",
              "      filter: drop-shadow(0px 1px 2px rgba(0, 0, 0, 0.3));\n",
              "      fill: #FFFFFF;\n",
              "    }\n",
              "  </style>\n",
              "\n",
              "      <script>\n",
              "        const buttonEl =\n",
              "          document.querySelector('#df-927e9539-6250-41ef-9dce-8d002c6b9938 button.colab-df-convert');\n",
              "        buttonEl.style.display =\n",
              "          google.colab.kernel.accessAllowed ? 'block' : 'none';\n",
              "\n",
              "        async function convertToInteractive(key) {\n",
              "          const element = document.querySelector('#df-927e9539-6250-41ef-9dce-8d002c6b9938');\n",
              "          const dataTable =\n",
              "            await google.colab.kernel.invokeFunction('convertToInteractive',\n",
              "                                                     [key], {});\n",
              "          if (!dataTable) return;\n",
              "\n",
              "          const docLinkHtml = 'Like what you see? Visit the ' +\n",
              "            '<a target=\"_blank\" href=https://colab.research.google.com/notebooks/data_table.ipynb>data table notebook</a>'\n",
              "            + ' to learn more about interactive tables.';\n",
              "          element.innerHTML = '';\n",
              "          dataTable['output_type'] = 'display_data';\n",
              "          await google.colab.output.renderOutput(dataTable, element);\n",
              "          const docLink = document.createElement('div');\n",
              "          docLink.innerHTML = docLinkHtml;\n",
              "          element.appendChild(docLink);\n",
              "        }\n",
              "      </script>\n",
              "    </div>\n",
              "  </div>\n",
              "  "
            ]
          },
          "metadata": {},
          "execution_count": 187
        }
      ]
    },
    {
      "cell_type": "code",
      "source": [
        "y=df.iloc[:,0]\n"
      ],
      "metadata": {
        "id": "la0p7XuMSOKa"
      },
      "execution_count": null,
      "outputs": []
    },
    {
      "cell_type": "code",
      "source": [
        "from sklearn.preprocessing import MinMaxScaler\n",
        "mms=MinMaxScaler()\n",
        "X=mms.fit_transform(X)"
      ],
      "metadata": {
        "id": "MnDQ0-M-U1rH"
      },
      "execution_count": null,
      "outputs": []
    },
    {
      "cell_type": "code",
      "source": [
        "from sklearn.model_selection import train_test_split\n",
        "X_train,X_test,y_train,y_test=train_test_split(X,y,test_size=0.3,random_state=1)"
      ],
      "metadata": {
        "id": "GIR3oDo0U-Ye"
      },
      "execution_count": null,
      "outputs": []
    },
    {
      "cell_type": "code",
      "source": [
        "knn_fs=KNeighborsClassifier()\n",
        "sv_fs=SVC()\n",
        "nb_fs=GaussianNB()\n",
        "rf_fs=RandomForestClassifier()\n",
        "ad_fs=AdaBoostClassifier()\n",
        "models=[knn_fs,sv_fs,nb_fs,rf_fs,ad_fs]"
      ],
      "metadata": {
        "id": "BhaBURG7VBz5"
      },
      "execution_count": null,
      "outputs": []
    },
    {
      "cell_type": "code",
      "source": [
        "for model in models:\n",
        "  print('*'*20,model,'*'*20)\n",
        "  model.fit(X_train,y_train)\n",
        "  y_pred_fs=model.predict(X_test)\n",
        "  print(classification_report(y_test,y_pred_fs))\n",
        "  print('__'*100)"
      ],
      "metadata": {
        "colab": {
          "base_uri": "https://localhost:8080/"
        },
        "id": "A8PeNqEtWOVw",
        "outputId": "9bb1236b-d747-44bf-d65e-4715696d02d8"
      },
      "execution_count": null,
      "outputs": [
        {
          "output_type": "stream",
          "name": "stdout",
          "text": [
            "******************** KNeighborsClassifier() ********************\n",
            "              precision    recall  f1-score   support\n",
            "\n",
            "           0       0.80      0.96      0.87       272\n",
            "           1       0.20      0.05      0.07        66\n",
            "\n",
            "    accuracy                           0.78       338\n",
            "   macro avg       0.50      0.50      0.47       338\n",
            "weighted avg       0.69      0.78      0.72       338\n",
            "\n",
            "________________________________________________________________________________________________________________________________________________________________________________________________________\n",
            "******************** SVC() ********************\n",
            "              precision    recall  f1-score   support\n",
            "\n",
            "           0       0.80      1.00      0.89       272\n",
            "           1       0.00      0.00      0.00        66\n",
            "\n",
            "    accuracy                           0.80       338\n",
            "   macro avg       0.40      0.50      0.45       338\n",
            "weighted avg       0.65      0.80      0.72       338\n",
            "\n",
            "________________________________________________________________________________________________________________________________________________________________________________________________________\n",
            "******************** GaussianNB() ********************\n",
            "              precision    recall  f1-score   support\n",
            "\n",
            "           0       0.80      1.00      0.89       272\n",
            "           1       0.00      0.00      0.00        66\n",
            "\n",
            "    accuracy                           0.80       338\n",
            "   macro avg       0.40      0.50      0.44       338\n",
            "weighted avg       0.65      0.80      0.72       338\n",
            "\n",
            "________________________________________________________________________________________________________________________________________________________________________________________________________\n",
            "******************** RandomForestClassifier() ********************\n",
            "              precision    recall  f1-score   support\n",
            "\n",
            "           0       0.81      0.96      0.88       272\n",
            "           1       0.38      0.09      0.15        66\n",
            "\n",
            "    accuracy                           0.79       338\n",
            "   macro avg       0.59      0.53      0.51       338\n",
            "weighted avg       0.73      0.79      0.74       338\n",
            "\n",
            "________________________________________________________________________________________________________________________________________________________________________________________________________\n",
            "******************** AdaBoostClassifier() ********************\n",
            "              precision    recall  f1-score   support\n",
            "\n",
            "           0       0.81      0.98      0.88       272\n",
            "           1       0.25      0.03      0.05        66\n",
            "\n",
            "    accuracy                           0.79       338\n",
            "   macro avg       0.53      0.50      0.47       338\n",
            "weighted avg       0.70      0.79      0.72       338\n",
            "\n",
            "________________________________________________________________________________________________________________________________________________________________________________________________________\n"
          ]
        }
      ]
    },
    {
      "cell_type": "markdown",
      "source": [
        "All the above classification algorithm is used to predict after the feature selection. From the performance measures it is observed that Naive bayes algorithm has got the maximum accuracy of 80%."
      ],
      "metadata": {
        "id": "GfQIFBX6zKr7"
      }
    },
    {
      "cell_type": "markdown",
      "source": [
        "In this project a credit risk data set is taken for analysis. Many classification algorithm has been used for prediction with hyper parameter tuning and feature selection methods. From the performance measures it is observed that the Random forest classifier has go the maximum accuracy of 85% in this dataset."
      ],
      "metadata": {
        "id": "Am9OmPG-0qPG"
      }
    }
  ]
}